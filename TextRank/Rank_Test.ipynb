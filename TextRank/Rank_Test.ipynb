{
 "metadata": {
  "language_info": {
   "codemirror_mode": {
    "name": "ipython",
    "version": 3
   },
   "file_extension": ".py",
   "mimetype": "text/x-python",
   "name": "python",
   "nbconvert_exporter": "python",
   "pygments_lexer": "ipython3",
   "version": "3.8.5-final"
  },
  "orig_nbformat": 2,
  "kernelspec": {
   "name": "python3",
   "display_name": "Python 3.8.5 64-bit (conda)",
   "metadata": {
    "interpreter": {
     "hash": "6d46af94c2bbce495f1e668725902fa517c90b1782bcfe2fce0dd9868df553d3"
    }
   }
  }
 },
 "nbformat": 4,
 "nbformat_minor": 2,
 "cells": [
  {
   "cell_type": "code",
   "execution_count": 2,
   "metadata": {},
   "outputs": [],
   "source": [
    "from newspaper import Article"
   ]
  },
  {
   "cell_type": "code",
   "execution_count": 5,
   "metadata": {
    "tags": []
   },
   "outputs": [
    {
     "output_type": "stream",
     "name": "stdout",
     "text": [
      "Title : 이낙연 \"윤석열, 상식적이지 않아…수사·기소 분리 자신도 동의\"(종합)\nContents : 이낙연 더불어민주당 대표가 3일 오전 서울 여의도 국회에서 열린 최고위원회의에서 모두발언을 하고 있다. 2021.3.3/뉴스1 © News1 성동훈 기자 이낙연 더불어민주당 대표가 3일 오전 서울 여의도 국회에서 열린 최고위원회의에서 모두발언을 하고 있다. 2021.3.3/뉴스1 © News1 성동훈 기자\n\n(서울=뉴스1) 정연주 기자,이준성 기자 = 이낙연 더불어민주당 대표는 5일 윤석열 검찰총장의 사퇴와 관련해 \"공직자로서 상식적이지 않은 뜬금없는 처신\"이라고 비판했다.이 대표는 이날 오전 민주당 최고위원회의에서 \"어제 윤 총장이 중대범죄수사청, 중수청 설치 논의에 반발하며 사퇴했다\"며 \"민주당은 중수청 설치 여부에 대해 결론을 내지 않고 의견을 수렴하는 과정이었다\"면서 이렇게 말했다.그는 \"그 과정에서 법무부장관 검찰총장도 합당한 통로를 통해 의견을 제시할 수 있고 그것이 공직자다운 처신이었을 것\"이라며 \"윤 총장은 중수청의 대안을 스스로 제시한 지 하루 만에 총장직을 사퇴했다. 더구나 수사와 기소 분리에 대해선 그 자신도 국회에서 동의한 바 있다\"고 말했다.이어 \"윤 총장의 정치 진입은 기정사실로 받아들여지고 있다. 특히 사퇴 직전 움직임과 사퇴의 변은 정치 선언으로 보였다\"며 \"본인 스스로가 검찰총장 재임 시절부터 선택적 수사와 선택적 기소 논란 등으로 검찰의 정치적 중립성에 대한 격렬한 시비를 일으키더니 사퇴도 그렇게 하셨다\"고 질타했다.그러면서 \"그가 검찰에 끼친 영향은 냉철하게 판단받을 것\"이라며 \"이제 검찰의 정치적 중립성 회복까지 시급한 과제가 돼버린 현실이 역설적이다. 지난 수십년동안 검찰은 수사와 기소권을 독점한 채 권한과 영향력을 유지·확대했다. 민주당은 완성도 높은 검찰개혁 방안을 마련하고 입법을 추진할 것\"이라고 말했다.전날 국회에 제출된 4차 재난지원금과 관련 추가경정예산안의 증액 가능성도 시사했다.이 대표는 \"코로나19 피해가 워낙 심각해 충분치 못할 것이다. 예결위와 관련 상임위 심사 과정에서 보완이 있길 바란다\"며 \"농어업도 피해가 큰 업종이다. 꽃 판매업도 타격을 입고 버스업계 등도 일자리가 줄었다. 정부는 코로나 현장 의료인력에 대한 처우 개선 방안 등을 마련해달라. 이번 추경 심의과정에서도 배려가 있었으면 한다\"고 강조했다.추가적인 금융지원 방안도 추진할 방침을 밝혔다. 그는 \"저신용 소상공인들은 자금을 대출받는데 애로가 많다고 하소연한다\"며 \"정부와 금융당국은 소상공인을 위한 금융지원 프로그램을 마련했다. 그러나 현장에선 아직 해결에 크게 못 미친다며 특단의 대책이 필요하다고 한다\"고 전했다.그러면서 \"정부와 함께 현장 수요에 걸맞은 금융 지원 방안을 마련해달라\"고 당부했다.한편, 코로나19 백신 접종과 관련해선 \"순조롭게 진행되고 있다\"며 \"백신이 유전자를 변화시킨다거나 치매를 일으킨다는 등의 가짜뉴스가 돌고 가짜 백신을 파는 사기 행위까지 나타났다. 불신과 공포를 조장하는 가짜뉴스와 그에 편승하는 사기행위는 용납하지 못한다. 민주당과 정부는 11월 집단면역 형성까지 안전하고 신속한 접종에 최선을 다하겠다\"고 밝혔다.jyj@news1.kr© 뉴스1코리아( news1.kr ), 무단 전재 및 재배포 금지\n['__class__', '__delattr__', '__dict__', '__dir__', '__doc__', '__eq__', '__format__', '__ge__', '__getattribute__', '__gt__', '__hash__', '__init__', '__init_subclass__', '__le__', '__lt__', '__module__', '__ne__', '__new__', '__reduce__', '__reduce_ex__', '__repr__', '__setattr__', '__sizeof__', '__str__', '__subclasshook__', '__weakref__', 'additional_data', 'article_html', 'authors', 'build', 'build_resource_path', 'canonical_link', 'clean_doc', 'clean_top_node', 'config', 'doc', 'download', 'download_exception_msg', 'download_state', 'extractor', 'fetch_images', 'get_parse_candidate', 'get_resource_path', 'has_top_image', 'html', 'images', 'imgs', 'is_media_news', 'is_parsed', 'is_valid_body', 'is_valid_url', 'keywords', 'link_hash', 'meta_data', 'meta_description', 'meta_favicon', 'meta_img', 'meta_keywords', 'meta_lang', 'movies', 'nlp', 'parse', 'publish_date', 'release_resources', 'set_article_html', 'set_authors', 'set_canonical_link', 'set_html', 'set_imgs', 'set_keywords', 'set_meta_data', 'set_meta_description', 'set_meta_favicon', 'set_meta_img', 'set_meta_keywords', 'set_meta_language', 'set_movies', 'set_reddit_top_img', 'set_summary', 'set_tags', 'set_text', 'set_title', 'set_top_img', 'set_top_img_no_check', 'source_url', 'summary', 'tags', 'text', 'throw_if_not_downloaded_verbose', 'throw_if_not_parsed_verbose', 'title', 'top_image', 'top_img', 'top_node', 'url']\n"
     ]
    }
   ],
   "source": [
    "url = input()\n",
    "\n",
    "a = Article(url, language='ko')\n",
    "\n",
    "a.download()\n",
    "a.parse()\n",
    "print('Title : ' + a.title)\n",
    "print('Contents : ' + a.text)\n",
    "print(dir(a))"
   ]
  },
  {
   "cell_type": "code",
   "execution_count": null,
   "metadata": {},
   "outputs": [],
   "source": []
  }
 ]
}