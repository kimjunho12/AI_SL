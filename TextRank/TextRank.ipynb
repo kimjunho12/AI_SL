{
 "metadata": {
  "language_info": {
   "codemirror_mode": {
    "name": "ipython",
    "version": 3
   },
   "file_extension": ".py",
   "mimetype": "text/x-python",
   "name": "python",
   "nbconvert_exporter": "python",
   "pygments_lexer": "ipython3",
   "version": "3.8.5-final"
  },
  "orig_nbformat": 2,
  "kernelspec": {
   "name": "python3",
   "display_name": "Python 3",
   "language": "python"
  }
 },
 "nbformat": 4,
 "nbformat_minor": 2,
 "cells": [
  {
   "source": [
    "# Load library"
   ],
   "cell_type": "markdown",
   "metadata": {}
  },
  {
   "cell_type": "code",
   "execution_count": 7,
   "metadata": {},
   "outputs": [],
   "source": [
    "from newspaper import Article\n",
    "from konlpy.tag import Kkma\n",
    "from konlpy.tag import Okt\n",
    "from sklearn.feature_extraction.text import TfidfVectorizer\n",
    "from sklearn.feature_extraction.text import CountVectorizer\n",
    "from sklearn.preprocessing import normalize\n",
    "import numpy as np"
   ]
  },
  {
   "source": [
    "# SentenceTokenizer Class"
   ],
   "cell_type": "markdown",
   "metadata": {}
  },
  {
   "cell_type": "code",
   "execution_count": 8,
   "metadata": {},
   "outputs": [],
   "source": [
    "class SentenceTokenizer(object):\n",
    "    def __init__(self):\n",
    "        self.kkma = Kkma()\n",
    "        self.okt = Okt()\n",
    "        self.stopwords = ['중인' ,'만큼', '마찬가지', '꼬집었', \"연합뉴스\", \"데일리\", \"동아일보\", \"중앙일보\", \"조선일보\", \"기자\"\n",
    "        ,\"아\", \"휴\", \"아이구\", \"아이쿠\", \"아이고\", \"어\", \"나\", \"우리\", \"저희\", \"따라\", \"의해\", \"을\", \"를\", \"에\", \"의\", \"가\",'로써',\n",
    "        '해당']\n",
    "    def url2sentences(self, url):\n",
    "        article = Article(url, language='ko')\n",
    "        article.download()\n",
    "        article.parse()\n",
    "        sentences = self.kkma.sentences(article.text)\n",
    "        print(article.text)\n",
    "        print('*'*120)\n",
    "\n",
    "        for idx in range(0, len(sentences)):\n",
    "            if len(sentences[idx]) <= 10:\n",
    "                sentences[idx-1] += (' ' + sentences[idx])\n",
    "                sentences[idx] = ''\n",
    "            return sentences\n",
    "\n",
    "    def text2sentences(self, text):\n",
    "        sentences = self.kkma.sentences(text)\n",
    "        for idx in range(0, len(sentences)):\n",
    "            if len(sentences[idx]) <= 10:\n",
    "                sentences[idx-1] += (' ' + sentences[idx])\n",
    "                sentences[idx] = ''\n",
    "        return sentences\n",
    "\n",
    "    def get_nouns(self, sentences):\n",
    "        nouns = []\n",
    "        for sentence in sentences:\n",
    "            if sentence != '':\n",
    "              nouns.append(' '.join([noun for noun in self.okt.nouns(str(sentence))\n",
    "            if noun not in self.stopwords and len(noun) > 1]))\n",
    "        return nouns\n"
   ]
  },
  {
   "source": [
    "# GrapMatrix Class"
   ],
   "cell_type": "markdown",
   "metadata": {}
  },
  {
   "cell_type": "code",
   "execution_count": 9,
   "metadata": {},
   "outputs": [],
   "source": [
    "class GraphMatrix(object):\n",
    "    def __init__(self):\n",
    "        self.tfidf = TfidfVectorizer()\n",
    "        self.cnt_vec = CountVectorizer()\n",
    "        self.graph_sentence = []\n",
    "        \n",
    "    def build_sent_graph(self, sentence):\n",
    "        tfidf_mat = self.tfidf.fit_transform(sentence).toarray()\n",
    "        self.graph_sentence = np.dot(tfidf_mat, tfidf_mat.T)\n",
    "        return self.graph_sentence\n",
    "\n",
    "    def build_words_graph(self, sentence):\n",
    "        cnt_vec_mat = normalize(self.cnt_vec.fit_transform(sentence).toarray().astype(float), axis=0)\n",
    "        vocab = self.cnt_vec.vocabulary_\n",
    "        return np.dot(cnt_vec_mat.T, cnt_vec_mat), {vocab[word] : word for word in vocab}"
   ]
  },
  {
   "source": [
    "# Rank Class"
   ],
   "cell_type": "markdown",
   "metadata": {}
  },
  {
   "cell_type": "code",
   "execution_count": 10,
   "metadata": {},
   "outputs": [],
   "source": [
    "class Rank(object):\n",
    "    def get_ranks(self, graph, d=0.85): # d = damping factor\n",
    "        A = graph\n",
    "        matrix_size = A.shape[0]\n",
    "        for id in range(matrix_size):\n",
    "            A[id, id] = 0 # diagonal 부분을 0으로\n",
    "            link_sum = np.sum(A[:,id]) # A[:, id] = A[:][id]\n",
    "            if link_sum != 0:\n",
    "                A[:, id] /= link_sum\n",
    "            A[:, id] *= -d\n",
    "            A[id, id] = 1\n",
    "\n",
    "        B = (1-d) * np.ones((matrix_size, 1))\n",
    "        ranks = np.linalg.solve(A, B) # 연립방정식 Ax = b\n",
    "        return {idx: r[0] for idx, r in enumerate(ranks)}"
   ]
  },
  {
   "source": [
    "# TextRank Class"
   ],
   "cell_type": "markdown",
   "metadata": {}
  },
  {
   "cell_type": "code",
   "execution_count": 11,
   "metadata": {},
   "outputs": [],
   "source": [
    "class TextRank(object):\n",
    "    def __init__(self, text):\n",
    "        self.sent_tokenize = SentenceTokenizer()\n",
    "        if text[:5] in ('http:', 'https'):\n",
    "            self.sentences = self.sent_tokenize.url2sentences(text)\n",
    "        else:\n",
    "            self.sentences = self.sent_tokenize.text2sentences(text)\n",
    "        self.nouns = self.sent_tokenize.get_nouns(self.sentences)\n",
    "        self.graph_matrix = GraphMatrix()\n",
    "        self.sent_graph = self.graph_matrix.build_sent_graph(self.nouns)\n",
    "        self.words_graph, self.idx2word = self.graph_matrix.build_words_graph(self.nouns)\n",
    "        self.rank = Rank()\n",
    "        self.sent_rank_idx = self.rank.get_ranks(self.sent_graph)\n",
    "        self.sorted_sent_rank_idx = sorted(self.sent_rank_idx, key=lambda k: self.sent_rank_idx[k], reverse=True)\n",
    "        self.word_rank_idx = self.rank.get_ranks(self.words_graph)\n",
    "        self.sorted_word_rank_idx = sorted(self.word_rank_idx, key=lambda k: self.word_rank_idx[k], reverse=True)\n",
    "\n",
    "    def summarize(self, sent_num=3):\n",
    "        summary = []\n",
    "        index=[]\n",
    "        for idx in self.sorted_sent_rank_idx[:sent_num]:\n",
    "            index.append(idx)\n",
    "\n",
    "        index.sort()\n",
    "        for idx in index:\n",
    "            summary.append(self.sentences[idx])\n",
    "\n",
    "        return summary\n",
    "\n",
    "    def keywords(self, word_num=10):\n",
    "        rank = Rank()\n",
    "        rank_idx = rank.get_ranks(self.words_graph)\n",
    "        sorted_rank_idx = sorted(rank_idx, key=lambda k: rank_idx[k], reverse=True)\n",
    "\n",
    "        keywords = []\n",
    "        index=[]\n",
    "        for idx in sorted_rank_idx[:word_num]:\n",
    "            index.append(idx)\n",
    "\n",
    "        #index.sort()\n",
    "        for idx in index:\n",
    "            keywords.append(self.idx2word[idx])\n",
    "        return keywords\n"
   ]
  },
  {
   "source": [
    "# Main"
   ],
   "cell_type": "markdown",
   "metadata": {}
  },
  {
   "cell_type": "code",
   "execution_count": 12,
   "metadata": {},
   "outputs": [
    {
     "output_type": "stream",
     "name": "stdout",
     "text": [
      "이리하고 저리하고..\n\n아무리 열어보려고 해도 꽉 닫혀버린 너!!\n\n생활팁으로 알아보는 간단한 도장 뚜껑 여는법.. 알고보니 참 쉽죠~\n\n\n\n\n\n\n\n\n\n\n\n\n\n\n\n\n\n\n\n\n\n\n\n\n\n인터넷 뱅킹을 주로하다보니 은행에 갈 일이.. 일년에 손에 꼽을 정도라고나 할까요?\n\n\n\n\n\n그런데... 이번에 은행 갈일이 생겨서.. 이것저것 챙겨보게 되면서..\n\n도장을 꺼내보았지요.\n\n\n\n\n\n몇 달.. 아니 몇 년만에 마주하는 것만 같은 내 도장..\n\n그동안 잘 있었나? 하고 테스트할겸..뚜껑을 열어보려는데............\n\n\n\n\n\n열리지가 않는다..\n\n꿈쩍도 하지 않는다...\n\n\n\n\n\n이...이럴수가..\n\n\n\n\n\n내 손힘이 약해서 또 못여는구나.. 하며 좌절...\n\n\n\n\n\n​\n\n​\n\n\n\n\n\n\n\n\n\n\n\n\n\n랑~~~~ 이리와서 열어보아요~!!\n\n이럴때는 신랑을 부르는게 최고지요~!\n\n\n\n\n\n평소에도 뚜껑같은 건 잘 못여는저라서..\n\n신랑은 도장가지고 씨름하는 저를 보더니 역시나~ 하는 표정을 지으면서 오는데..\n\n\n\n\n\n훗...\n\n자기도 못 열면서!!\n\n\n\n\n\n어찌나 꽉 닫혀 있는건지.. 꿈쩍도 하지 않는 도장 뚜껑!!\n\n\n\n\n\n너를 어쩌면 좋으란 말이던가..ㅜ^ㅜ\n\n\n\n\n\n​\n\n\n\n\n\n\n\n\n\n​\n\n그래서 급 도장 뚜껑 여는 법을 찾아 헤매이는데~~\n\n아....\n\n어째 팁들이.. 죄... 나무도장이란 말이렷다!!\n\n\n\n\n\n내꺼는.. 아크릴 플라스틱이란 말인데..ㅜ^ㅜ\n\n\n\n\n\n나무도장처럼.. 뜨거운 물에 넣는 것으로는.. 아니 된단 말이죠.. 흑흑흑\n\n\n\n\n\n\n\n\n\n\n\n\n\n* 참고로 나무도장의 경우 컵에 뜨거운 물을 담은 후\n\n그 안에 도장을 5분정도 담가두면 쉽게 열 수 있다고 합니다.\n\n\n\n\n\n\n\n\n\n\n\n\n\n\n\n\n\n하지만!! 저도 해결했답니다~!!\n\n저같은 플라틱 도장은요.. 차가운 냉동실로 고고씽~!!!\n\n\n\n\n\n10분정도 넣어두었다가 꺼내보세요.\n\n​\n\n​\n\n\n\n\n\n\n\n\n\n\n\n\n\n그러면..\n\n그렇게 꽉! 껴서는.. 신랑이 열려고 해도 열리지 않던 도장 뚜껑이..\n\n저의 힘으로도 뽕~! 하고 열린답니다..\n\n\n\n\n\n냉동실에 넣었다가 꺼냈을 뿐인데..\n\n이렇게 쉽게 열리는 것을 보면서 어찌나 신기하던지!!!!\n\n\n\n\n\n괜히 뚜껑 열어보겠다고 낑낑대면서 씨름을 했던 지난 날들이 주마등처럼 스쳐지나가더군요....ㅜ^ㅜ\n\n\n\n\n\n​\n\n​\n\n\n\n\n\n\n\n\n\n​\n\n\n\n\n\n앞으로..\n\n도장 뚜껑 열리지 않는다고.. 씨름하기 있기?없기~?\n\n\n\n\n\n\n\n\n\n없기!!\n\n\n\n\n\n나무도장은 뜨거운 물에..\n\n플라스틱 도장은 냉동실에~\n\n​\n\n우리.. 이젠 손 아파하지 말고.. 쉽게 열어보아요 ^^\n\n\n\n\n\n\n\n\n************************************************************************************************************************\n이럴 때는 신랑을 부르는 게 최고지요~! 평소에도 뚜껑 같은 건 잘 못 여는 저라서.. 신랑은 도장 가지고 씨름하는 저를 보더니 역시나~ 하는 표정을 지으면서 오는데.. 훗... 자기도 못 열면서!! 어찌나 꽉 닫혀 있는 건지.. 꿈쩍도 하지 않는 도장 뚜껑!! 너를 어쩌면 좋으란 말이 던가.. ㅜ^ ㅜ ​ ​ 그래서 급 도장 뚜껑 여는 법을 찾아 헤매이는데~~ 아.... 어째 팁들이.. 죄... 나무도장이란 말이렷다!!\n\n흑 흑흑 * 참고로 나무도장의 경우 컵에 뜨거운 물을 담은 후 그 안에 도장을 5분 정도 담가 두면 쉽게 열 수 있다고\n\n​ ​ 그러면.. 그렇게 꽉! 껴서는.. 신랑이 열려고 해도 열리지 않던 도장 뚜껑이.. 저의 힘으로도 뽕~! 하고 열린답니다..\n\nㅜ^ ㅜ ​ ​ ​ 앞으로.. 도장 뚜껑 열리지 않는다고..\n\n씨름 하기 있기? 없기~? 없기!! 나무도장은 뜨거운 물에.. 플라스틱 도장은 냉동실에~ ​ 우리.. 이젠 손 아파하지 말고.. 쉽게 열어 보아요\n\nkeywords : ['도장', '뚜껑', '나무', '신랑', '씨름', '평소', '표정', '가지', '어쩌면', '보더']\n"
     ]
    }
   ],
   "source": [
    "url = input()\n",
    "textrank = TextRank(url)\n",
    "for row in textrank.summarize(5):\n",
    "    print(row)\n",
    "    print()\n",
    "print('keywords :',textrank.keywords())"
   ]
  },
  {
   "cell_type": "code",
   "execution_count": null,
   "metadata": {},
   "outputs": [],
   "source": []
  }
 ]
}