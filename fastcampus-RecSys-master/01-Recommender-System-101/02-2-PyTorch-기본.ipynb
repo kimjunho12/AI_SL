{
 "cells": [
  {
   "cell_type": "markdown",
   "metadata": {
    "colab_type": "text",
    "id": "dKoPDCjCVUVn"
   },
   "source": [
    "# Pytorch Basics\n",
    "\n",
    "- Stevens, Antiga and Viehmann (2020), \"Deep Learning with PyTorch\" 참고\n",
    "- PyTorch tutorial website 참고(https://tutorials.pytorch.kr/beginner/deep_learning_60min_blitz.html)"
   ]
  },
  {
   "cell_type": "markdown",
   "metadata": {
    "colab_type": "text",
    "id": "V-XO4CJ-VdYJ"
   },
   "source": [
    "### **PyTorch**\n",
    "* provides multidimensional arrays\n",
    "* *tensors*, and an extensive *library of operations* on them"
   ]
  },
  {
   "cell_type": "code",
   "execution_count": 1,
   "metadata": {
    "colab": {},
    "colab_type": "code",
    "id": "QwtH-86-VnRs"
   },
   "outputs": [],
   "source": [
    "# torch가 설치되어 있지 않다면\n",
    "# https://pytorch.org 에서 환경에 맞는 command로 설치하거나\n",
    "# !pip install torch\n",
    "# 또는 !pip3 install torch (Python3 환경임을 명시)\n",
    "\n",
    "import torch"
   ]
  },
  {
   "cell_type": "markdown",
   "metadata": {
    "colab_type": "text",
    "id": "4isdOwxZbfQy"
   },
   "source": [
    "### 1. Tensor란? Tensor 만들기\n",
    "\n",
    "* Tensors: Multidimensional arrays\n"
   ]
  },
  {
   "cell_type": "code",
   "execution_count": 2,
   "metadata": {
    "colab": {
     "base_uri": "https://localhost:8080/",
     "height": 153
    },
    "colab_type": "code",
    "id": "Pbbatb8lVBvs",
    "outputId": "b6acba42-e0df-47d8-80e2-31fb60977eb4",
    "scrolled": true
   },
   "outputs": [
    {
     "output_type": "stream",
     "name": "stdout",
     "text": [
      "tensor([1., 2., 3.])\ntensor([[1., 2., 3.],\n        [4., 5., 6.]])\ntensor([[[1., 2.],\n         [3., 4.]],\n\n        [[5., 6.],\n         [7., 8.]]])\n"
     ]
    }
   ],
   "source": [
    "# Create a torch.Tensor object with the given data.  It is a 1D vector\n",
    "V_data = [1., 2., 3.]\n",
    "V = torch.Tensor(V_data)\n",
    "print(V)\n",
    "\n",
    "# Creates a matrix\n",
    "M_data = [[1., 2., 3.], [4., 5., 6]]\n",
    "M = torch.Tensor(M_data)\n",
    "print(M)\n",
    "\n",
    "# Create a 3D tensor of size 2x2x2.\n",
    "T_data = [[[1.,2.], [3.,4.]],\n",
    "          [[5.,6.], [7.,8.]]]\n",
    "T = torch.Tensor(T_data)\n",
    "print(T)"
   ]
  },
  {
   "cell_type": "code",
   "execution_count": 3,
   "metadata": {
    "colab": {
     "base_uri": "https://localhost:8080/",
     "height": 68
    },
    "colab_type": "code",
    "id": "vVc3HcRTc1AD",
    "outputId": "119a0608-a204-48ca-de21-0009dfeb83a1"
   },
   "outputs": [
    {
     "output_type": "stream",
     "name": "stdout",
     "text": [
      "tensor([1., 1., 1.])\ntensor([[1., 1., 1.],\n        [1., 1., 1.]])\n"
     ]
    }
   ],
   "source": [
    "# torch.ones: tensor를 size에 맞게 1로 채운다\n",
    "a = torch.ones(3)\n",
    "print(a)\n",
    "\n",
    "b = torch.ones(2, 3)\n",
    "print(b)"
   ]
  },
  {
   "cell_type": "code",
   "execution_count": 4,
   "metadata": {
    "colab": {
     "base_uri": "https://localhost:8080/",
     "height": 272
    },
    "colab_type": "code",
    "id": "4ju-BJS_dldu",
    "outputId": "5db4fe9b-983c-4e19-8d55-0aba9f3a2179"
   },
   "outputs": [
    {
     "output_type": "stream",
     "name": "stdout",
     "text": [
      "tensor([0., 0., 0., 0.])\ntensor([[[0., 0., 0.],\n         [0., 0., 0.]],\n\n        [[0., 0., 0.],\n         [0., 0., 0.]],\n\n        [[0., 0., 0.],\n         [0., 0., 0.]],\n\n        [[0., 0., 0.],\n         [0., 0., 0.]],\n\n        [[0., 0., 0.],\n         [0., 0., 0.]]])\n"
     ]
    }
   ],
   "source": [
    "# torch.zeros: tensor를 size에 맞게 0으로 채운다\n",
    "c = torch.zeros(4)\n",
    "print(c)\n",
    "\n",
    "d = torch.zeros(5, 2, 3)\n",
    "print(d)"
   ]
  },
  {
   "cell_type": "code",
   "execution_count": 5,
   "metadata": {},
   "outputs": [
    {
     "output_type": "stream",
     "name": "stdout",
     "text": [
      "tensor([[7.1118e-04, 1.7444e+28, 7.3909e+22],\n        [4.5828e+30, 3.2483e+33, 1.9690e-19],\n        [6.8589e+22, 1.3340e+31, 1.1708e-19],\n        [7.2128e+22, 9.2216e+29, 7.5546e+31],\n        [1.6932e+22, 3.0728e+32, 2.9514e+29]])\ntensor([[0.5468, 0.2386, 0.2982],\n        [0.7966, 0.5050, 0.1802],\n        [0.2379, 0.0287, 0.2637],\n        [0.6339, 0.1305, 0.4538],\n        [0.3805, 0.7327, 0.7766]])\n"
     ]
    }
   ],
   "source": [
    "# 초기화하면서 현재 메모리에 존재하는 값\n",
    "x = torch.empty(5, 3)\n",
    "print(x)\n",
    "\n",
    "x = torch.rand(5, 3)\n",
    "print(x)"
   ]
  },
  {
   "cell_type": "code",
   "execution_count": 6,
   "metadata": {
    "colab": {
     "base_uri": "https://localhost:8080/",
     "height": 68
    },
    "colab_type": "code",
    "id": "LGi1jp7VqN2I",
    "outputId": "0fa4faa8-cf52-4564-c29b-cf7f70f5dd58"
   },
   "outputs": [
    {
     "output_type": "stream",
     "name": "stdout",
     "text": [
      "tensor([0.8322, 0.3069, 0.3325, 0.0474], dtype=torch.float64)\ntensor([[0.8772, 0.6976, 0.2752],\n        [0.8772, 0.6849, 0.0991]])\n"
     ]
    }
   ],
   "source": [
    "# torch.rand: 랜덤 숫자로 tensor를 채운다\n",
    "rand_points = torch.rand(4, dtype=torch.double)\n",
    "print(rand_points)\n",
    "\n",
    "rand_points_2 = torch.rand(2, 3, dtype=torch.float)\n",
    "print(rand_points_2)"
   ]
  },
  {
   "cell_type": "code",
   "execution_count": 7,
   "metadata": {},
   "outputs": [
    {
     "output_type": "stream",
     "name": "stdout",
     "text": [
      "torch.Size([2, 3])\n"
     ]
    }
   ],
   "source": [
    "# 행렬 사이즈\n",
    "print(rand_points_2.size())"
   ]
  },
  {
   "cell_type": "markdown",
   "metadata": {
    "colab_type": "text",
    "id": "8oKuS5aSduU8"
   },
   "source": [
    "### 2. Indexing Tensors"
   ]
  },
  {
   "cell_type": "code",
   "execution_count": 8,
   "metadata": {
    "colab": {
     "base_uri": "https://localhost:8080/",
     "height": 136
    },
    "colab_type": "code",
    "id": "neAw8Z6xdr4b",
    "outputId": "d649223d-26c5-4b2c-e0fe-d4ff9a2c5514"
   },
   "outputs": [
    {
     "output_type": "stream",
     "name": "stdout",
     "text": [
      "tensor([0., 1., 2., 3., 4., 5., 6., 7.])\ntensor([1., 2., 3.])\ntensor([1., 2., 3., 4., 5., 6., 7.])\ntensor([0., 1., 2., 3.])\ntensor(7.)\ntensor([0., 1., 2., 3., 4., 5., 6.])\ntensor([1., 3., 5.])\n"
     ]
    }
   ],
   "source": [
    "temp = torch.Tensor([0, 1, 2, 3, 4, 5, 6, 7])\n",
    "\n",
    "print(temp[:]) # tensor element 전체\n",
    "print(temp[1:4]) # index 1과 4 사이의 원소들 출력\n",
    "print(temp[1:]) # index 1부터의 원소들 출력\n",
    "print(temp[:4]) # index 4까지의 원소들 출력\n",
    "print(temp[-1]) # 뒤에서 첫번째 원소 출력\n",
    "print(temp[:-1]) # index -1 = 뒤에서부터 index 1에 해당하는 원소까지만 출력\n",
    "print(temp[1:6:2]) # index 1과 6 사이의 원소 출력, 이때 2개 단위로 건너뛰면서"
   ]
  },
  {
   "cell_type": "code",
   "execution_count": 9,
   "metadata": {
    "colab": {
     "base_uri": "https://localhost:8080/",
     "height": 68
    },
    "colab_type": "code",
    "id": "4WO5sfMIet7x",
    "outputId": "5e905b69-8d12-4ba2-a214-959482768efa"
   },
   "outputs": [
    {
     "output_type": "stream",
     "name": "stdout",
     "text": [
      "tensor([[1., 2., 3.],\n        [4., 5., 6.]])\ntensor([[4., 5., 6.]])\ntensor([[5., 6.]])\ntensor([4.])\n"
     ]
    }
   ],
   "source": [
    "temp2 = torch.Tensor([[1, 2, 3], [4, 5, 6]])\n",
    "\n",
    "print(temp2)\n",
    "print(temp2[1:])\n",
    "print(temp2[1:, 1:])\n",
    "print(temp2[1:, 0])"
   ]
  },
  {
   "cell_type": "markdown",
   "metadata": {
    "colab_type": "text",
    "id": "S_udPVfjfomz"
   },
   "source": [
    "## 3. Tensor element types\n",
    "\n",
    "add 'dtype' argument to tensor constructors \n",
    "\n",
    "-> specify the data type that will be contained in the tensor\n",
    "\n",
    "dtype을 구성하는 것:\n",
    "- possible values the tensor can hold (int, float, ...)\n",
    "- number of bytes per value (8, 16, 32, ...)\n",
    "\n",
    "예)\n",
    "\n",
    "- torch.float32 (= torch.float): 32-bit floating point\n",
    "\n",
    "- torch.float64 (= torch.double): 64-bit, double-precision floating point\n",
    "\n",
    "- torch.float16 (= torch.half): 16-bit, half-precision floating point\n",
    "\n",
    "- torch.int32 (= torch.int): 32-bit integers\n",
    "\n",
    "- torch.int64 (= torch.long): 64-bit integers\n",
    "\n",
    "- torch.bool: Boolean\n",
    "\n",
    "...\n",
    "\n"
   ]
  },
  {
   "cell_type": "code",
   "execution_count": 10,
   "metadata": {
    "colab": {
     "base_uri": "https://localhost:8080/",
     "height": 119
    },
    "colab_type": "code",
    "id": "rgq_coZiiWSs",
    "outputId": "6eceea5c-0bf7-4dfe-fd1f-6d1835f6c582"
   },
   "outputs": [
    {
     "output_type": "stream",
     "name": "stdout",
     "text": [
      "tensor([[1., 1.],\n        [1., 1.],\n        [1., 1.],\n        [1., 1.],\n        [1., 1.]])\ntensor([0, 0, 0])\n"
     ]
    }
   ],
   "source": [
    "float_points = torch.ones(5, 2, dtype=torch.float32)\n",
    "int_points = torch.zeros(3, dtype=torch.int64)\n",
    "\n",
    "print(float_points)\n",
    "print(int_points)"
   ]
  },
  {
   "cell_type": "code",
   "execution_count": 11,
   "metadata": {
    "colab": {
     "base_uri": "https://localhost:8080/",
     "height": 34
    },
    "colab_type": "code",
    "id": "po8KyFFaj30-",
    "outputId": "9ee31c79-7fa2-422b-c8ca-31045a6b70c4"
   },
   "outputs": [
    {
     "output_type": "stream",
     "name": "stdout",
     "text": [
      "tensor([2., 2.])\n"
     ]
    }
   ],
   "source": [
    "# default: float\n",
    "default_points = torch.Tensor([2, 2])\n",
    "print(default_points)"
   ]
  },
  {
   "cell_type": "code",
   "execution_count": 12,
   "metadata": {
    "colab": {
     "base_uri": "https://localhost:8080/",
     "height": 68
    },
    "colab_type": "code",
    "id": "XMaXu5o_j6-s",
    "outputId": "a7735e3d-22b3-41dc-f357-54faba008ae8"
   },
   "outputs": [
    {
     "output_type": "stream",
     "name": "stdout",
     "text": [
      "torch.float32\ntorch.int64\ntorch.float32\n"
     ]
    }
   ],
   "source": [
    "# find out dtype\n",
    "print(float_points.dtype)\n",
    "print(int_points.dtype)\n",
    "print(default_points.dtype)"
   ]
  },
  {
   "cell_type": "code",
   "execution_count": 13,
   "metadata": {
    "colab": {
     "base_uri": "https://localhost:8080/",
     "height": 85
    },
    "colab_type": "code",
    "id": "mwFvF367kT-U",
    "outputId": "ff1c5a28-ac6d-4103-964e-9c8e4cacc094"
   },
   "outputs": [
    {
     "output_type": "stream",
     "name": "stdout",
     "text": [
      "torch.int32\ntorch.int64\ntorch.float32\ntorch.float16\n"
     ]
    }
   ],
   "source": [
    "# other forms of specifying dtype\n",
    "\n",
    "to_int_1 = float_points.int()\n",
    "print(to_int_1.dtype)\n",
    "\n",
    "# 'to' checks whether the conversion is necessary and if so, does it.\n",
    "to_int_2 = float_points.to(torch.int64)\n",
    "print(to_int_2.dtype)\n",
    "\n",
    "to_float_1 = int_points.float()\n",
    "print(to_float_1.dtype)\n",
    "\n",
    "to_float_2 = int_points.to(dtype=torch.float16)\n",
    "print(to_float_2.dtype)\n"
   ]
  },
  {
   "cell_type": "markdown",
   "metadata": {
    "colab_type": "text",
    "id": "M2Ho6YMFljQo"
   },
   "source": [
    "## 4. The Tensor API\n",
    "\n",
    "tensor와 관련된 대부분의 operation은 torch 모듈에 구현되어 있음\n",
    "\n",
    "예)\n",
    "\n",
    "- math operations: abs, cos, mean, std, norm, equal, max, ...\n",
    "- tensor element-wise sum, concat, ...\n",
    "- random sampling: randn, normal, ...\n",
    "\n",
    "online docs: https://pytorch.org/docs\n"
   ]
  },
  {
   "cell_type": "markdown",
   "metadata": {
    "colab_type": "text",
    "id": "OfPHhJsnmJQe"
   },
   "source": [
    "## 5. Tensor Shape and Reshape\n"
   ]
  },
  {
   "cell_type": "code",
   "execution_count": 14,
   "metadata": {
    "colab": {
     "base_uri": "https://localhost:8080/",
     "height": 68
    },
    "colab_type": "code",
    "id": "rVeNlalxn2Cw",
    "outputId": "7472717b-a70a-402e-dd1d-e64eee5c2118"
   },
   "outputs": [
    {
     "output_type": "stream",
     "name": "stdout",
     "text": [
      "tensor([[1., 2., 3.],\n        [4., 5., 6.]])\ntorch.Size([2, 3])\n"
     ]
    }
   ],
   "source": [
    "# shape: Returns the size of the tensor\n",
    "\n",
    "a = torch.Tensor([[1, 2, 3], [4, 5, 6]])\n",
    "\n",
    "print(a)\n",
    "print(a.shape)\n"
   ]
  },
  {
   "cell_type": "code",
   "execution_count": 15,
   "metadata": {
    "colab": {
     "base_uri": "https://localhost:8080/",
     "height": 34
    },
    "colab_type": "code",
    "id": "6UUPsdOLrCW6",
    "outputId": "a3152fe0-3b82-4047-9059-b44de584615b"
   },
   "outputs": [
    {
     "output_type": "stream",
     "name": "stdout",
     "text": [
      "torch.Size([2, 3])\n"
     ]
    }
   ],
   "source": [
    "# size()\n",
    "\n",
    "print(a.size())"
   ]
  },
  {
   "cell_type": "code",
   "execution_count": 16,
   "metadata": {
    "colab": {
     "base_uri": "https://localhost:8080/",
     "height": 153
    },
    "colab_type": "code",
    "id": "Ot2sY3g0oawP",
    "outputId": "7af31283-f335-47f1-cf29-10c9d8abd953"
   },
   "outputs": [
    {
     "output_type": "stream",
     "name": "stdout",
     "text": [
      "tensor([[1., 2.],\n        [3., 4.],\n        [5., 6.]])\ntorch.Size([3, 2])\ntensor([[1., 2.],\n        [3., 4.],\n        [5., 6.]])\ntorch.Size([3, 2])\n"
     ]
    }
   ],
   "source": [
    "# Reshape: 주어진 shape로 original tensor에서 데이터를 가져와서 reshape한다\n",
    "\n",
    "a_reshape = a.reshape(3, 2)\n",
    "print(a_reshape)\n",
    "print(a_reshape.shape)\n",
    "\n",
    "a_reshape_2 = a.reshape(-1, 2) # the size -1 is inferred from other dimensions\n",
    "print(a_reshape_2)\n",
    "print(a_reshape_2.shape)"
   ]
  },
  {
   "cell_type": "code",
   "execution_count": 17,
   "metadata": {
    "colab": {
     "base_uri": "https://localhost:8080/",
     "height": 198
    },
    "colab_type": "code",
    "id": "jmZpgwXfpDx-",
    "outputId": "a75bf3a5-4c3e-4774-899a-ea236e1da32c"
   },
   "outputs": [
    {
     "output_type": "error",
     "ename": "RuntimeError",
     "evalue": "shape '[4, 2]' is invalid for input of size 6",
     "traceback": [
      "\u001b[1;31m---------------------------------------------------------------------------\u001b[0m",
      "\u001b[1;31mRuntimeError\u001b[0m                              Traceback (most recent call last)",
      "\u001b[1;32m<ipython-input-17-1e7ad2969007>\u001b[0m in \u001b[0;36m<module>\u001b[1;34m\u001b[0m\n\u001b[0;32m      1\u001b[0m \u001b[1;31m# if shape is not compatible with the current shape:\u001b[0m\u001b[1;33m\u001b[0m\u001b[1;33m\u001b[0m\u001b[1;33m\u001b[0m\u001b[0m\n\u001b[1;32m----> 2\u001b[1;33m \u001b[0ma_no_reshape\u001b[0m \u001b[1;33m=\u001b[0m \u001b[0ma\u001b[0m\u001b[1;33m.\u001b[0m\u001b[0mreshape\u001b[0m\u001b[1;33m(\u001b[0m\u001b[1;36m4\u001b[0m\u001b[1;33m,\u001b[0m \u001b[1;36m2\u001b[0m\u001b[1;33m)\u001b[0m\u001b[1;33m\u001b[0m\u001b[1;33m\u001b[0m\u001b[0m\n\u001b[0m",
      "\u001b[1;31mRuntimeError\u001b[0m: shape '[4, 2]' is invalid for input of size 6"
     ]
    }
   ],
   "source": [
    "# if shape is not compatible with the current shape:\n",
    "a_no_reshape = a.reshape(4, 2)"
   ]
  },
  {
   "cell_type": "code",
   "execution_count": 18,
   "metadata": {
    "colab": {
     "base_uri": "https://localhost:8080/",
     "height": 68
    },
    "colab_type": "code",
    "id": "l7YPGgQTpnWN",
    "outputId": "d5b94a2c-9fc1-4afa-d33d-b9deea96ad7c"
   },
   "outputs": [
    {
     "output_type": "stream",
     "name": "stdout",
     "text": [
      "torch.Size([4, 4])\ntorch.Size([16])\ntorch.Size([2, 8])\n"
     ]
    }
   ],
   "source": [
    "# View: Returns a new tensor with the same data as the original tensor but of a different shape.\n",
    "# reshape과 거의 비슷하게 사용\n",
    "\n",
    "x = torch.randn(4, 4)\n",
    "print(x.size())\n",
    "\n",
    "y = x.view(16)\n",
    "print(y.size())\n",
    "\n",
    "z = x.view(-1, 8)  # the size -1 is inferred from other dimensions\n",
    "print(z.size())"
   ]
  },
  {
   "cell_type": "markdown",
   "metadata": {
    "colab_type": "text",
    "id": "NaRU1c5Er3r-"
   },
   "source": [
    "## 6. Transpose"
   ]
  },
  {
   "cell_type": "code",
   "execution_count": 19,
   "metadata": {
    "colab": {
     "base_uri": "https://localhost:8080/",
     "height": 170
    },
    "colab_type": "code",
    "id": "R0-zLDjYsyyG",
    "outputId": "ac1da328-4aec-4299-dbce-80594b7bb338"
   },
   "outputs": [
    {
     "output_type": "stream",
     "name": "stdout",
     "text": [
      "tensor([1.0569])\ntensor([1.0569])\ntensor([-0.5778, -0.6925,  0.6581])\ntensor([-0.5778, -0.6925,  0.6581])\ntensor([[ 0.5999,  1.5553, -0.3231],\n        [ 0.9837, -0.6572, -0.6693]])\ntensor([[ 0.5999,  0.9837],\n        [ 1.5553, -0.6572],\n        [-0.3231, -0.6693]])\n"
     ]
    }
   ],
   "source": [
    "# torch.t: 가장 간단한 형태의 transpose\n",
    "# Expects input to be <= 2-D tensor and transposes dimensions 0 and 1.\n",
    "# 0-D and 1-D tensors are returned as is. When input is a 2-D tensor this is equivalent to transpose(input, 0, 1).\n",
    "\n",
    "x = torch.randn(1)\n",
    "print(x)\n",
    "print(torch.t(x))\n",
    "\n",
    "y = torch.randn(3)\n",
    "print(y)\n",
    "print(y.t())\n",
    "\n",
    "z = torch.randn(2, 3)\n",
    "print(z)\n",
    "print(torch.t(z))"
   ]
  },
  {
   "cell_type": "code",
   "execution_count": 20,
   "metadata": {
    "colab": {
     "base_uri": "https://localhost:8080/",
     "height": 102
    },
    "colab_type": "code",
    "id": "RjM2mMhbs8Tc",
    "outputId": "efb92193-4e22-4c7b-9110-29300cb50cd6"
   },
   "outputs": [
    {
     "output_type": "stream",
     "name": "stdout",
     "text": [
      "tensor([[ 1.2982, -0.1190,  1.1723],\n        [-0.2193,  0.4032, -0.9521]])\ntensor([[ 1.2982, -0.2193],\n        [-0.1190,  0.4032],\n        [ 1.1723, -0.9521]])\n"
     ]
    }
   ],
   "source": [
    "# torch.transpose\n",
    "# Returns a tensor that is a transposed version of input. The given dimensions dim0 and dim1 are swapped.\n",
    "\n",
    "w = torch.randn(2, 3)\n",
    "print(w)\n",
    "print(torch.transpose(w, 0, 1))"
   ]
  },
  {
   "cell_type": "code",
   "execution_count": 21,
   "metadata": {
    "colab": {
     "base_uri": "https://localhost:8080/",
     "height": 51
    },
    "colab_type": "code",
    "id": "XLJ41HTAtoHL",
    "outputId": "529854dd-46fa-425c-de1d-3b601ce79f40"
   },
   "outputs": [
    {
     "output_type": "stream",
     "name": "stdout",
     "text": [
      "torch.Size([64, 128, 768])\ntorch.Size([64, 768, 128])\n"
     ]
    }
   ],
   "source": [
    "# more complex case\n",
    "\n",
    "real_example = torch.randn(64, 128, 768)\n",
    "print(real_example.shape)\n",
    "transposed = torch.transpose(real_example, 1, 2)\n",
    "print(transposed.shape)"
   ]
  },
  {
   "cell_type": "markdown",
   "metadata": {},
   "source": [
    "## 7. Operations Example"
   ]
  },
  {
   "cell_type": "code",
   "execution_count": 24,
   "metadata": {},
   "outputs": [
    {
     "output_type": "stream",
     "name": "stdout",
     "text": [
      "tensor([[1., 1.]])\ntensor([[1., 1., 1.],\n        [1., 1., 1.],\n        [1., 1., 1.],\n        [1., 1., 1.],\n        [1., 1., 1.]])\n"
     ]
    }
   ],
   "source": [
    "x = torch.ones(1, 2)\n",
    "print(x)\n",
    "y = torch.ones(5, 3)\n",
    "print(y)"
   ]
  },
  {
   "cell_type": "code",
   "execution_count": 25,
   "metadata": {},
   "outputs": [
    {
     "output_type": "error",
     "ename": "RuntimeError",
     "evalue": "The size of tensor a (2) must match the size of tensor b (3) at non-singleton dimension 1",
     "traceback": [
      "\u001b[1;31m---------------------------------------------------------------------------\u001b[0m",
      "\u001b[1;31mRuntimeError\u001b[0m                              Traceback (most recent call last)",
      "\u001b[1;32m<ipython-input-25-39cb3db33052>\u001b[0m in \u001b[0;36m<module>\u001b[1;34m\u001b[0m\n\u001b[1;32m----> 1\u001b[1;33m \u001b[0mprint\u001b[0m\u001b[1;33m(\u001b[0m\u001b[0mx\u001b[0m\u001b[1;33m+\u001b[0m\u001b[0my\u001b[0m\u001b[1;33m)\u001b[0m\u001b[1;33m\u001b[0m\u001b[1;33m\u001b[0m\u001b[0m\n\u001b[0m",
      "\u001b[1;31mRuntimeError\u001b[0m: The size of tensor a (2) must match the size of tensor b (3) at non-singleton dimension 1"
     ]
    }
   ],
   "source": [
    "print(x+y)"
   ]
  },
  {
   "cell_type": "code",
   "execution_count": 26,
   "metadata": {},
   "outputs": [
    {
     "output_type": "stream",
     "name": "stdout",
     "text": [
      "tensor([[1., 1.],\n        [1., 1.],\n        [1., 1.],\n        [1., 1.],\n        [1., 1.]])\ntensor([[2., 2.],\n        [2., 2.],\n        [2., 2.],\n        [2., 2.],\n        [2., 2.]])\ntensor([[2., 2.],\n        [2., 2.],\n        [2., 2.],\n        [2., 2.],\n        [2., 2.]])\ntensor([[2., 2.],\n        [2., 2.],\n        [2., 2.],\n        [2., 2.],\n        [2., 2.]])\ntensor([[2., 2.],\n        [2., 2.],\n        [2., 2.],\n        [2., 2.],\n        [2., 2.]])\n"
     ]
    }
   ],
   "source": [
    "y = torch.ones(5, 2)\n",
    "print(y)\n",
    "\n",
    "# 1.\n",
    "print(x+y)\n",
    "# 2. \n",
    "print(torch.add(x, y))\n",
    "# 3.\n",
    "result = torch.empty(5, 2)\n",
    "torch.add(x, y, out=result)\n",
    "print(result)\n",
    "# 4. inplace\n",
    "print(y.add_(x))"
   ]
  },
  {
   "cell_type": "markdown",
   "metadata": {},
   "source": [
    "### Additional Information\n",
    "- torch 연산(transpose, indexing, slicing, mathematical operations, linear algebra 등)은 아래 링크에서 추가로 확인 가능\n",
    "- https://pytorch.org/docs/stable/torch.html"
   ]
  },
  {
   "cell_type": "markdown",
   "metadata": {
    "colab_type": "text",
    "id": "qjumWQBhuKsn"
   },
   "source": [
    "### Reference: Moving tensors to the GPU\n",
    "\n",
    "if you are using Google Colaboratory, please set the runtime type to GPUs.\n",
    "\n",
    "화면 상단 **런타임 >> 런타임 유형 변경 >> 하드웨어 가속기 GPU 선택**\n"
   ]
  },
  {
   "cell_type": "code",
   "execution_count": 27,
   "metadata": {},
   "outputs": [
    {
     "output_type": "execute_result",
     "data": {
      "text/plain": [
       "False"
      ]
     },
     "metadata": {},
     "execution_count": 27
    }
   ],
   "source": [
    "torch.cuda.is_available()"
   ]
  },
  {
   "cell_type": "code",
   "execution_count": 28,
   "metadata": {
    "colab": {
     "base_uri": "https://localhost:8080/",
     "height": 68
    },
    "colab_type": "code",
    "id": "5QxizvAxu8df",
    "outputId": "fd7e0366-09ac-47fe-ab4a-7d690af2189d"
   },
   "outputs": [
    {
     "output_type": "error",
     "ename": "AssertionError",
     "evalue": "Torch not compiled with CUDA enabled",
     "traceback": [
      "\u001b[1;31m---------------------------------------------------------------------------\u001b[0m",
      "\u001b[1;31mAssertionError\u001b[0m                            Traceback (most recent call last)",
      "\u001b[1;32m<ipython-input-28-abb0f8cb6b79>\u001b[0m in \u001b[0;36m<module>\u001b[1;34m\u001b[0m\n\u001b[0;32m      1\u001b[0m \u001b[1;32mimport\u001b[0m \u001b[0mtorch\u001b[0m \u001b[1;31m# 런타임 유형을 변경하면 colab 세션이 초기화될 수 있음\u001b[0m\u001b[1;33m\u001b[0m\u001b[1;33m\u001b[0m\u001b[0m\n\u001b[0;32m      2\u001b[0m \u001b[1;33m\u001b[0m\u001b[0m\n\u001b[1;32m----> 3\u001b[1;33m \u001b[0mpoints_gpu\u001b[0m \u001b[1;33m=\u001b[0m \u001b[0mtorch\u001b[0m\u001b[1;33m.\u001b[0m\u001b[0mtensor\u001b[0m\u001b[1;33m(\u001b[0m\u001b[1;33m[\u001b[0m\u001b[1;33m[\u001b[0m\u001b[1;36m4.0\u001b[0m\u001b[1;33m,\u001b[0m \u001b[1;36m1.0\u001b[0m\u001b[1;33m]\u001b[0m\u001b[1;33m,\u001b[0m \u001b[1;33m[\u001b[0m\u001b[1;36m5.0\u001b[0m\u001b[1;33m,\u001b[0m \u001b[1;36m3.0\u001b[0m\u001b[1;33m]\u001b[0m\u001b[1;33m,\u001b[0m \u001b[1;33m[\u001b[0m\u001b[1;36m2.0\u001b[0m\u001b[1;33m,\u001b[0m \u001b[1;36m1.0\u001b[0m\u001b[1;33m]\u001b[0m\u001b[1;33m]\u001b[0m\u001b[1;33m,\u001b[0m \u001b[0mdevice\u001b[0m\u001b[1;33m=\u001b[0m\u001b[1;34m'cuda'\u001b[0m\u001b[1;33m)\u001b[0m\u001b[1;33m\u001b[0m\u001b[1;33m\u001b[0m\u001b[0m\n\u001b[0m\u001b[0;32m      4\u001b[0m \u001b[1;33m\u001b[0m\u001b[0m\n\u001b[0;32m      5\u001b[0m \u001b[0mprint\u001b[0m\u001b[1;33m(\u001b[0m\u001b[0mpoints_gpu\u001b[0m\u001b[1;33m)\u001b[0m\u001b[1;33m\u001b[0m\u001b[1;33m\u001b[0m\u001b[0m\n",
      "\u001b[1;32m~\\anaconda3\\lib\\site-packages\\torch\\cuda\\__init__.py\u001b[0m in \u001b[0;36m_lazy_init\u001b[1;34m()\u001b[0m\n\u001b[0;32m    162\u001b[0m                 \"multiprocessing, you must use the 'spawn' start method\")\n\u001b[0;32m    163\u001b[0m         \u001b[1;32mif\u001b[0m \u001b[1;32mnot\u001b[0m \u001b[0mhasattr\u001b[0m\u001b[1;33m(\u001b[0m\u001b[0mtorch\u001b[0m\u001b[1;33m.\u001b[0m\u001b[0m_C\u001b[0m\u001b[1;33m,\u001b[0m \u001b[1;34m'_cuda_getDeviceCount'\u001b[0m\u001b[1;33m)\u001b[0m\u001b[1;33m:\u001b[0m\u001b[1;33m\u001b[0m\u001b[1;33m\u001b[0m\u001b[0m\n\u001b[1;32m--> 164\u001b[1;33m             \u001b[1;32mraise\u001b[0m \u001b[0mAssertionError\u001b[0m\u001b[1;33m(\u001b[0m\u001b[1;34m\"Torch not compiled with CUDA enabled\"\u001b[0m\u001b[1;33m)\u001b[0m\u001b[1;33m\u001b[0m\u001b[1;33m\u001b[0m\u001b[0m\n\u001b[0m\u001b[0;32m    165\u001b[0m         \u001b[1;32mif\u001b[0m \u001b[0m_cudart\u001b[0m \u001b[1;32mis\u001b[0m \u001b[1;32mNone\u001b[0m\u001b[1;33m:\u001b[0m\u001b[1;33m\u001b[0m\u001b[1;33m\u001b[0m\u001b[0m\n\u001b[0;32m    166\u001b[0m             raise AssertionError(\n",
      "\u001b[1;31mAssertionError\u001b[0m: Torch not compiled with CUDA enabled"
     ]
    }
   ],
   "source": [
    "import torch # 런타임 유형을 변경하면 colab 세션이 초기화될 수 있음\n",
    "\n",
    "points_gpu = torch.tensor([[4.0, 1.0], [5.0, 3.0], [2.0, 1.0]], device='cuda')\n",
    "\n",
    "print(points_gpu)"
   ]
  },
  {
   "cell_type": "code",
   "execution_count": null,
   "metadata": {
    "colab": {
     "base_uri": "https://localhost:8080/",
     "height": 51
    },
    "colab_type": "code",
    "id": "of1nZPe-wThd",
    "outputId": "a3acec8b-89be-4a92-fe15-f041cdd7a5f1"
   },
   "outputs": [],
   "source": [
    "points = torch.randn(2, 3)\n",
    "points_gpu = points.to(device='cuda')\n",
    "\n",
    "print(points_gpu)"
   ]
  },
  {
   "cell_type": "markdown",
   "metadata": {
    "colab_type": "text",
    "id": "hvPB3ixRwKQu"
   },
   "source": [
    "If our machine has more than one GPU, we can also decide on which GPU we allocate the tensor by passing a zero-based integer identifying the GPU on the machine, such as cuda:0, cuda:1, ..."
   ]
  },
  {
   "cell_type": "code",
   "execution_count": null,
   "metadata": {
    "colab": {
     "base_uri": "https://localhost:8080/",
     "height": 51
    },
    "colab_type": "code",
    "id": "r24Gocegv7l6",
    "outputId": "5831d71b-41e3-4c3b-9d86-6247dc94fde9"
   },
   "outputs": [],
   "source": [
    "points_gpu_0 = points.to(device='cuda:0')\n",
    "print(points_gpu_0)"
   ]
  },
  {
   "cell_type": "code",
   "execution_count": null,
   "metadata": {
    "colab": {
     "base_uri": "https://localhost:8080/",
     "height": 85
    },
    "colab_type": "code",
    "id": "nx9QcSKdwo07",
    "outputId": "686d9dde-3c77-48c3-c61e-d2aeb6eb42ae"
   },
   "outputs": [],
   "source": [
    "# operations performed on CPU and GPU\n",
    "\n",
    "points = 2 * points   # cpu에서 계산 수행\n",
    "print(points)\n",
    "\n",
    "points_op_gpu = 2 * points.to(device='cuda')  # gpu에서 계산 수행\n",
    "print(points_op_gpu)"
   ]
  },
  {
   "cell_type": "code",
   "execution_count": null,
   "metadata": {
    "colab": {
     "base_uri": "https://localhost:8080/",
     "height": 68
    },
    "colab_type": "code",
    "id": "JSeaQodKw6cS",
    "outputId": "dedb0842-4f41-4a40-c49d-9d2a37a0f9be"
   },
   "outputs": [],
   "source": [
    "# move the tensor back to the CPU\n",
    "\n",
    "points_cpu = points_gpu_0.to(device='cpu')\n",
    "print(points_cpu)\n",
    "print(points_cpu.device)"
   ]
  },
  {
   "cell_type": "code",
   "execution_count": null,
   "metadata": {
    "colab": {
     "base_uri": "https://localhost:8080/",
     "height": 119
    },
    "colab_type": "code",
    "id": "RIjlkk3nxn9j",
    "outputId": "35b0f366-7ba4-4194-9694-a0061ab8b205"
   },
   "outputs": [],
   "source": [
    "# shorter forms\n",
    "points_gpu = points.cuda()\n",
    "print(points_gpu)\n",
    "\n",
    "points_gpu = points.cuda(0)\n",
    "print(points_gpu)\n",
    "\n",
    "points_cpu = points_gpu.cpu()\n",
    "print(points_cpu)"
   ]
  },
  {
   "cell_type": "markdown",
   "metadata": {
    "colab_type": "text",
    "id": "v03s7CHNx0Yz"
   },
   "source": [
    "## 8. Numpy Interpretability\n",
    "\n",
    "PyTorch tensors can be converted to NumPy arrays and vice versa very efficiently."
   ]
  },
  {
   "cell_type": "code",
   "execution_count": null,
   "metadata": {
    "colab": {
     "base_uri": "https://localhost:8080/",
     "height": 68
    },
    "colab_type": "code",
    "id": "Ak0fmFWOx3ij",
    "outputId": "7f8a6114-fff0-4c44-9976-a613d6a01db6"
   },
   "outputs": [],
   "source": [
    "# tensor to numpy array\n",
    "\n",
    "points = torch.ones(3, 4)\n",
    "points_np = points.numpy()\n",
    "\n",
    "print(points_np)"
   ]
  },
  {
   "cell_type": "code",
   "execution_count": null,
   "metadata": {
    "colab": {
     "base_uri": "https://localhost:8080/",
     "height": 68
    },
    "colab_type": "code",
    "id": "ACS2KBbWyJDZ",
    "outputId": "2d8c078a-b1af-4a95-8981-5697e44e8390"
   },
   "outputs": [],
   "source": [
    "# numpy arrray to tensor\n",
    "\n",
    "points = torch.from_numpy(points_np)\n",
    "\n",
    "print(points)"
   ]
  },
  {
   "cell_type": "markdown",
   "metadata": {
    "colab_type": "text",
    "id": "qKvQhwT9yVJp"
   },
   "source": [
    "## 9. Save and load tensors\n",
    "\n",
    "save tensors to a file and load them back at some point\n",
    "\n",
    "PyTorch uses pickle under the hood to serialize the tensor object, plus dedicated serialization code for the storage."
   ]
  },
  {
   "cell_type": "code",
   "execution_count": null,
   "metadata": {
    "colab": {
     "base_uri": "https://localhost:8080/",
     "height": 51
    },
    "colab_type": "code",
    "id": "Spxqbf_kyYaa",
    "outputId": "42f2f6ed-945f-4bef-c6ab-b45a186ec720"
   },
   "outputs": [],
   "source": [
    "print(points)\n",
    "\n",
    "torch.save(points, './points_temp.t')"
   ]
  },
  {
   "cell_type": "code",
   "execution_count": null,
   "metadata": {
    "colab": {
     "base_uri": "https://localhost:8080/",
     "height": 51
    },
    "colab_type": "code",
    "id": "m59EIW7p0N-2",
    "outputId": "3d325290-e967-4975-af1d-727252c4edda"
   },
   "outputs": [],
   "source": [
    "load_points = torch.load('./points_temp.t')\n",
    "print(load_points)"
   ]
  }
 ],
 "metadata": {
  "accelerator": "GPU",
  "colab": {
   "collapsed_sections": [],
   "name": "PyTorch_2020FallSem_edited.ipynb",
   "provenance": [],
   "toc_visible": true
  },
  "kernelspec": {
   "display_name": "Python 3",
   "language": "python",
   "name": "python3"
  },
  "language_info": {
   "codemirror_mode": {
    "name": "ipython",
    "version": 3
   },
   "file_extension": ".py",
   "mimetype": "text/x-python",
   "name": "python",
   "nbconvert_exporter": "python",
   "pygments_lexer": "ipython3",
   "version": "3.8.5-final"
  }
 },
 "nbformat": 4,
 "nbformat_minor": 1
}