{
 "cells": [
  {
   "cell_type": "markdown",
   "metadata": {},
   "source": [
    "# 간단한 추천시스템 만들기\n",
    "\n",
    "1. MovieLens 데이터셋 불러오기\n",
    "2. MovieLens 데이터셋 중 학습셋과 평가셋 나누기\n",
    "3. 간단한 추천 알고리즘 만들기(평점을 예측하고 평가는 RMSE로 한다)"
   ]
  },
  {
   "cell_type": "markdown",
   "metadata": {},
   "source": [
    "## 필요한 라이브러리 정의 (Configuration)"
   ]
  },
  {
   "cell_type": "code",
   "execution_count": 1,
   "metadata": {},
   "outputs": [],
   "source": [
    "import os\n",
    "from tqdm import tqdm\n",
    "import pandas as pd\n",
    "import numpy as np\n",
    "\n",
    "from sklearn.model_selection import train_test_split\n",
    "from sklearn.metrics import mean_squared_error\n",
    "from scipy.sparse import csr_matrix\n",
    "\n",
    "import warnings\n",
    "warnings.filterwarnings(\"ignore\")"
   ]
  },
  {
   "cell_type": "markdown",
   "metadata": {},
   "source": [
    "## MovieLens 데이터셋 불러오기\n",
    "\n",
    "* ratings.csv, movies.csv, tags.csv"
   ]
  },
  {
   "cell_type": "code",
   "execution_count": 2,
   "metadata": {},
   "outputs": [],
   "source": [
    "# 데이터 Path 설정\n",
    "path = '../data/movielens/'"
   ]
  },
  {
   "cell_type": "code",
   "execution_count": 3,
   "metadata": {},
   "outputs": [],
   "source": [
    "ratings_df = pd.read_csv(os.path.join(path, 'ratings.csv'), encoding='utf-8')\n",
    "movies_df = pd.read_csv(os.path.join(path, 'movies.csv'), index_col='movieId', encoding='utf-8')\n",
    "tags_df = pd.read_csv(os.path.join(path, 'tags.csv'), encoding='utf-8')"
   ]
  },
  {
   "cell_type": "code",
   "execution_count": 4,
   "metadata": {},
   "outputs": [
    {
     "output_type": "stream",
     "name": "stdout",
     "text": [
      "(100836, 4)\n   userId  movieId  rating  timestamp\n0       1        1     4.0  964982703\n1       1        3     4.0  964981247\n2       1        6     4.0  964982224\n3       1       47     5.0  964983815\n4       1       50     5.0  964982931\n"
     ]
    }
   ],
   "source": [
    "print(ratings_df.shape)\n",
    "print(ratings_df.head())"
   ]
  },
  {
   "cell_type": "markdown",
   "metadata": {},
   "source": [
    "### ratings 데이터 정보 확인하기\n",
    "\n",
    "* 몇 명의 유저가 몇 개의 영화에 평점을 줬는지\n",
    "* 각 유저가 어떤 영화에 평점을 줬는지 sparse matrix"
   ]
  },
  {
   "cell_type": "code",
   "execution_count": 5,
   "metadata": {},
   "outputs": [
    {
     "output_type": "stream",
     "name": "stdout",
     "text": [
      "총 유저 수:  610\n총 영화 수:  9724\n"
     ]
    }
   ],
   "source": [
    "num_users = ratings_df['userId'].unique()\n",
    "num_movies = ratings_df['movieId'].unique()\n",
    "\n",
    "print(\"총 유저 수: \", len(num_users))\n",
    "print(\"총 영화 수: \", len(num_movies))"
   ]
  },
  {
   "cell_type": "markdown",
   "metadata": {},
   "source": [
    "* pandas dataframe의 pivot: https://pandas.pydata.org/pandas-docs/stable/reference/api/pandas.DataFrame.pivot.html"
   ]
  },
  {
   "cell_type": "code",
   "execution_count": 6,
   "metadata": {},
   "outputs": [],
   "source": [
    "# pivot ratings into movie features\n",
    "user_movie_matrix = ratings_df.pivot(\n",
    "    index='movieId',\n",
    "    columns='userId',\n",
    "    values='rating'\n",
    ").fillna(0)\n",
    " \n",
    "# convert dataframe of movie features to scipy sparse matrix\n",
    "sparse_mat = csr_matrix(user_movie_matrix.values)"
   ]
  },
  {
   "cell_type": "code",
   "execution_count": 7,
   "metadata": {},
   "outputs": [
    {
     "output_type": "stream",
     "name": "stdout",
     "text": [
      "userId   1    2    3    4    5    6    7    8    9    10   ...  601  602  603  \\\nmovieId                                                    ...                  \n1        4.0  0.0  0.0  0.0  4.0  0.0  4.5  0.0  0.0  0.0  ...  4.0  0.0  4.0   \n2        0.0  0.0  0.0  0.0  0.0  4.0  0.0  4.0  0.0  0.0  ...  0.0  4.0  0.0   \n3        4.0  0.0  0.0  0.0  0.0  5.0  0.0  0.0  0.0  0.0  ...  0.0  0.0  0.0   \n4        0.0  0.0  0.0  0.0  0.0  3.0  0.0  0.0  0.0  0.0  ...  0.0  0.0  0.0   \n5        0.0  0.0  0.0  0.0  0.0  5.0  0.0  0.0  0.0  0.0  ...  0.0  0.0  0.0   \n...      ...  ...  ...  ...  ...  ...  ...  ...  ...  ...  ...  ...  ...  ...   \n193581   0.0  0.0  0.0  0.0  0.0  0.0  0.0  0.0  0.0  0.0  ...  0.0  0.0  0.0   \n193583   0.0  0.0  0.0  0.0  0.0  0.0  0.0  0.0  0.0  0.0  ...  0.0  0.0  0.0   \n193585   0.0  0.0  0.0  0.0  0.0  0.0  0.0  0.0  0.0  0.0  ...  0.0  0.0  0.0   \n193587   0.0  0.0  0.0  0.0  0.0  0.0  0.0  0.0  0.0  0.0  ...  0.0  0.0  0.0   \n193609   0.0  0.0  0.0  0.0  0.0  0.0  0.0  0.0  0.0  0.0  ...  0.0  0.0  0.0   \n\nuserId   604  605  606  607  608  609  610  \nmovieId                                     \n1        3.0  4.0  2.5  4.0  2.5  3.0  5.0  \n2        5.0  3.5  0.0  0.0  2.0  0.0  0.0  \n3        0.0  0.0  0.0  0.0  2.0  0.0  0.0  \n4        0.0  0.0  0.0  0.0  0.0  0.0  0.0  \n5        3.0  0.0  0.0  0.0  0.0  0.0  0.0  \n...      ...  ...  ...  ...  ...  ...  ...  \n193581   0.0  0.0  0.0  0.0  0.0  0.0  0.0  \n193583   0.0  0.0  0.0  0.0  0.0  0.0  0.0  \n193585   0.0  0.0  0.0  0.0  0.0  0.0  0.0  \n193587   0.0  0.0  0.0  0.0  0.0  0.0  0.0  \n193609   0.0  0.0  0.0  0.0  0.0  0.0  0.0  \n\n[9724 rows x 610 columns]\n"
     ]
    }
   ],
   "source": [
    "print(user_movie_matrix)"
   ]
  },
  {
   "cell_type": "code",
   "execution_count": 8,
   "metadata": {},
   "outputs": [
    {
     "output_type": "stream",
     "name": "stdout",
     "text": [
      "  (0, 0)\t4.0\n  (0, 4)\t4.0\n  (0, 6)\t4.5\n  (0, 14)\t2.5\n  (0, 16)\t4.5\n  (0, 17)\t3.5\n  (0, 18)\t4.0\n  (0, 20)\t3.5\n  (0, 26)\t3.0\n  (0, 30)\t5.0\n  (0, 31)\t3.0\n  (0, 32)\t3.0\n  (0, 39)\t5.0\n  (0, 42)\t5.0\n  (0, 43)\t3.0\n  (0, 44)\t4.0\n  (0, 45)\t5.0\n  (0, 49)\t3.0\n  (0, 53)\t3.0\n  (0, 56)\t5.0\n  (0, 62)\t5.0\n  (0, 63)\t4.0\n  (0, 65)\t4.0\n  (0, 67)\t2.5\n  (0, 70)\t5.0\n  :\t:\n  (9700, 337)\t2.5\n  (9701, 337)\t3.0\n  (9702, 183)\t4.0\n  (9702, 247)\t3.5\n  (9703, 317)\t2.5\n  (9704, 209)\t1.0\n  (9705, 461)\t2.5\n  (9706, 49)\t3.5\n  (9707, 337)\t1.5\n  (9708, 337)\t4.0\n  (9709, 337)\t1.0\n  (9710, 337)\t1.5\n  (9711, 337)\t1.0\n  (9712, 337)\t1.0\n  (9713, 183)\t4.5\n  (9714, 183)\t3.5\n  (9715, 183)\t3.0\n  (9716, 183)\t4.0\n  (9717, 183)\t4.0\n  (9718, 183)\t3.5\n  (9719, 183)\t4.0\n  (9720, 183)\t3.5\n  (9721, 183)\t3.5\n  (9722, 183)\t3.5\n  (9723, 330)\t4.0\n"
     ]
    }
   ],
   "source": [
    "print(sparse_mat)"
   ]
  },
  {
   "cell_type": "code",
   "execution_count": 9,
   "metadata": {},
   "outputs": [],
   "source": [
    "user_info_df = pd.DataFrame(data = [sum(list(user_movie_matrix[int(x)].value_counts())[1:]) for x in user_movie_matrix.columns],\n",
    "                           index = user_movie_matrix.columns, columns=['movies_rated'])\n",
    "\n",
    "# sum(list(user_movie_matrix[1].value_counts())[1:])"
   ]
  },
  {
   "cell_type": "code",
   "execution_count": 10,
   "metadata": {},
   "outputs": [
    {
     "output_type": "execute_result",
     "data": {
      "text/plain": [
       "        movies_rated\n",
       "userId              \n",
       "1                232\n",
       "2                 29\n",
       "3                 39\n",
       "4                216\n",
       "5                 44\n",
       "...              ...\n",
       "606             1115\n",
       "607              187\n",
       "608              831\n",
       "609               37\n",
       "610             1302\n",
       "\n",
       "[610 rows x 1 columns]"
      ],
      "text/html": "<div>\n<style scoped>\n    .dataframe tbody tr th:only-of-type {\n        vertical-align: middle;\n    }\n\n    .dataframe tbody tr th {\n        vertical-align: top;\n    }\n\n    .dataframe thead th {\n        text-align: right;\n    }\n</style>\n<table border=\"1\" class=\"dataframe\">\n  <thead>\n    <tr style=\"text-align: right;\">\n      <th></th>\n      <th>movies_rated</th>\n    </tr>\n    <tr>\n      <th>userId</th>\n      <th></th>\n    </tr>\n  </thead>\n  <tbody>\n    <tr>\n      <th>1</th>\n      <td>232</td>\n    </tr>\n    <tr>\n      <th>2</th>\n      <td>29</td>\n    </tr>\n    <tr>\n      <th>3</th>\n      <td>39</td>\n    </tr>\n    <tr>\n      <th>4</th>\n      <td>216</td>\n    </tr>\n    <tr>\n      <th>5</th>\n      <td>44</td>\n    </tr>\n    <tr>\n      <th>...</th>\n      <td>...</td>\n    </tr>\n    <tr>\n      <th>606</th>\n      <td>1115</td>\n    </tr>\n    <tr>\n      <th>607</th>\n      <td>187</td>\n    </tr>\n    <tr>\n      <th>608</th>\n      <td>831</td>\n    </tr>\n    <tr>\n      <th>609</th>\n      <td>37</td>\n    </tr>\n    <tr>\n      <th>610</th>\n      <td>1302</td>\n    </tr>\n  </tbody>\n</table>\n<p>610 rows × 1 columns</p>\n</div>"
     },
     "metadata": {},
     "execution_count": 10
    }
   ],
   "source": [
    "user_info_df"
   ]
  },
  {
   "cell_type": "code",
   "execution_count": 11,
   "metadata": {},
   "outputs": [],
   "source": [
    "movie_info_df = pd.DataFrame(data = [sum(list(user_movie_matrix.loc[int(x)].value_counts())[1:]) for x in user_movie_matrix.index],\n",
    "                           index = user_movie_matrix.index, columns=['users_rated'])\n"
   ]
  },
  {
   "cell_type": "code",
   "execution_count": 12,
   "metadata": {},
   "outputs": [
    {
     "output_type": "execute_result",
     "data": {
      "text/plain": [
       "         users_rated\n",
       "movieId             \n",
       "1                215\n",
       "2                110\n",
       "3                 52\n",
       "4                  7\n",
       "5                 49\n",
       "...              ...\n",
       "193581             1\n",
       "193583             1\n",
       "193585             1\n",
       "193587             1\n",
       "193609             1\n",
       "\n",
       "[9724 rows x 1 columns]"
      ],
      "text/html": "<div>\n<style scoped>\n    .dataframe tbody tr th:only-of-type {\n        vertical-align: middle;\n    }\n\n    .dataframe tbody tr th {\n        vertical-align: top;\n    }\n\n    .dataframe thead th {\n        text-align: right;\n    }\n</style>\n<table border=\"1\" class=\"dataframe\">\n  <thead>\n    <tr style=\"text-align: right;\">\n      <th></th>\n      <th>users_rated</th>\n    </tr>\n    <tr>\n      <th>movieId</th>\n      <th></th>\n    </tr>\n  </thead>\n  <tbody>\n    <tr>\n      <th>1</th>\n      <td>215</td>\n    </tr>\n    <tr>\n      <th>2</th>\n      <td>110</td>\n    </tr>\n    <tr>\n      <th>3</th>\n      <td>52</td>\n    </tr>\n    <tr>\n      <th>4</th>\n      <td>7</td>\n    </tr>\n    <tr>\n      <th>5</th>\n      <td>49</td>\n    </tr>\n    <tr>\n      <th>...</th>\n      <td>...</td>\n    </tr>\n    <tr>\n      <th>193581</th>\n      <td>1</td>\n    </tr>\n    <tr>\n      <th>193583</th>\n      <td>1</td>\n    </tr>\n    <tr>\n      <th>193585</th>\n      <td>1</td>\n    </tr>\n    <tr>\n      <th>193587</th>\n      <td>1</td>\n    </tr>\n    <tr>\n      <th>193609</th>\n      <td>1</td>\n    </tr>\n  </tbody>\n</table>\n<p>9724 rows × 1 columns</p>\n</div>"
     },
     "metadata": {},
     "execution_count": 12
    }
   ],
   "source": [
    "movie_info_df"
   ]
  },
  {
   "cell_type": "markdown",
   "metadata": {},
   "source": [
    "## MovieLens 데이터셋 중 학습셋과 평가셋 나누기"
   ]
  },
  {
   "cell_type": "code",
   "execution_count": 13,
   "metadata": {},
   "outputs": [],
   "source": [
    "train_df, test_df = train_test_split(ratings_df, test_size=0.3, random_state=1234)"
   ]
  },
  {
   "cell_type": "code",
   "execution_count": 14,
   "metadata": {},
   "outputs": [
    {
     "output_type": "stream",
     "name": "stdout",
     "text": [
      "(70585, 4)\n(30251, 4)\n"
     ]
    }
   ],
   "source": [
    "print(train_df.shape)\n",
    "print(test_df.shape)"
   ]
  },
  {
   "cell_type": "markdown",
   "metadata": {},
   "source": [
    "### test set에는 존재하지만, train set에는 없는 영화 또는 사용자 비율"
   ]
  },
  {
   "cell_type": "code",
   "execution_count": 15,
   "metadata": {},
   "outputs": [
    {
     "output_type": "stream",
     "name": "stdout",
     "text": [
      "사용자:  0\n영화:  1209\ntest set의 전체 영화 수:  6151\ntrain set의 전체 영화 수:  8515\n전체 영화 수:  9724\n"
     ]
    }
   ],
   "source": [
    "# 집합 A - 집합 B => 집합 B에는 없고 집합 A에만 있는 item \n",
    "\n",
    "# userId\n",
    "print(\"사용자: \",len(list(set(test_df['userId'].unique()) - set(train_df['userId'].unique()))))         # 제외 User 수\n",
    "\n",
    "# movieId\n",
    "print(\"영화: \", len(list(set(test_df['movieId'].unique()) - set(train_df['movieId'].unique()))))        # 제외 영화\n",
    "print(\"test set의 전체 영화 수: \",  len(test_df['movieId'].unique()))\n",
    "print(\"train set의 전체 영화 수: \",  len(train_df['movieId'].unique()))\n",
    "print(\"전체 영화 수: \", len(ratings_df['movieId'].unique()))"
   ]
  },
  {
   "cell_type": "code",
   "execution_count": 16,
   "metadata": {},
   "outputs": [
    {
     "output_type": "stream",
     "name": "stdout",
     "text": [
      "[49, 117, 137, 178, 179, 214, 220, 241, 270, 279]\n       userId  movieId  rating  timestamp\n29386     202       49     3.0  974925453\n97066     604      117     3.0  832080636\n99501     609      137     3.0  847221054\n27959     191      178     1.0  829760898\n62376     414      179     2.0  961514335\n632         6      179     1.0  845555362\n96154     603      214     4.0  963179452\n13114      84      214     4.0  858771796\n97086     604      220     3.0  832080636\n98493     607      241     4.0  964744490\ntrain set에 없고, test set에만 있는 영화 데이터 수:  (1390, 4)\n"
     ]
    }
   ],
   "source": [
    "movies_not_included = list(set(test_df['movieId'].unique()) - set(train_df['movieId'].unique()))\n",
    "print(sorted(movies_not_included)[:10])\n",
    "\n",
    "not_included_df = test_df[test_df.movieId.isin(movies_not_included)].sort_values(by='movieId')\n",
    "print(not_included_df.head(10))\n",
    "\n",
    "print(\"train set에 없고, test set에만 있는 영화 데이터 수: \", not_included_df.shape)"
   ]
  },
  {
   "cell_type": "markdown",
   "metadata": {},
   "source": [
    "## 간단한 추천알고리즘 만들기\n",
    "\n",
    "1. 랜덤으로 평점 예측하기\n",
    "2. 영화 평균 평점기반 예측하기\n",
    "3. 사용자 평균 평점기반 예측하기\n",
    "4. Rule기반 영화 랭킹 예측하기\n",
    "    \n",
    "* test에 있고, train에 없는 경우"
   ]
  },
  {
   "cell_type": "markdown",
   "metadata": {},
   "source": [
    "### 랜덤으로 평점 예측하기"
   ]
  },
  {
   "cell_type": "code",
   "execution_count": 17,
   "metadata": {},
   "outputs": [
    {
     "output_type": "execute_result",
     "data": {
      "text/plain": [
       "array([0.5, 1. , 1.5, 2. , 2.5, 3. , 3.5, 4. , 4.5, 5. ])"
      ]
     },
     "metadata": {},
     "execution_count": 17
    }
   ],
   "source": [
    "# 0.5 - 5.0사이의 숫자를 예측해야할 평점 수 만큼 generate\n",
    "ratings_range = np.arange(0.5, 5.5, step=0.5)\n",
    "ratings_range"
   ]
  },
  {
   "cell_type": "code",
   "execution_count": 18,
   "metadata": {},
   "outputs": [
    {
     "output_type": "execute_result",
     "data": {
      "text/plain": [
       "[2.5, 3.0, 4.0, 1.5, 1.0, 0.5, 5.0, 2.0, 4.0, 3.0]"
      ]
     },
     "metadata": {},
     "execution_count": 18
    }
   ],
   "source": [
    "import random\n",
    "pred_random = [random.choice(ratings_range) for x in range(len(test_df))]\n",
    "pred_random[:10]"
   ]
  },
  {
   "cell_type": "code",
   "execution_count": 19,
   "metadata": {},
   "outputs": [
    {
     "output_type": "execute_result",
     "data": {
      "text/plain": [
       "       userId  movieId  rating   timestamp  pred_ratings_random\n",
       "99731     610     3527     5.0  1479545223                  2.5\n",
       "97583     606     1250     3.5  1171376891                  3.0\n",
       "38197     262      213     5.0   840310907                  4.0\n",
       "11474      68    69406     3.0  1261622505                  1.5\n",
       "34105     232     4728     3.0  1218166950                  1.0\n",
       "...       ...      ...     ...         ...                  ...\n",
       "24735     172     1982     3.0  1238716057                  0.5\n",
       "5825       41    69757     3.5  1458938869                  2.5\n",
       "11128      68     6893     3.5  1158534072                  3.5\n",
       "2231       18   117176     4.0  1473004722                  2.0\n",
       "75290     475    45722     4.5  1498030315                  2.0\n",
       "\n",
       "[30251 rows x 5 columns]"
      ],
      "text/html": "<div>\n<style scoped>\n    .dataframe tbody tr th:only-of-type {\n        vertical-align: middle;\n    }\n\n    .dataframe tbody tr th {\n        vertical-align: top;\n    }\n\n    .dataframe thead th {\n        text-align: right;\n    }\n</style>\n<table border=\"1\" class=\"dataframe\">\n  <thead>\n    <tr style=\"text-align: right;\">\n      <th></th>\n      <th>userId</th>\n      <th>movieId</th>\n      <th>rating</th>\n      <th>timestamp</th>\n      <th>pred_ratings_random</th>\n    </tr>\n  </thead>\n  <tbody>\n    <tr>\n      <th>99731</th>\n      <td>610</td>\n      <td>3527</td>\n      <td>5.0</td>\n      <td>1479545223</td>\n      <td>2.5</td>\n    </tr>\n    <tr>\n      <th>97583</th>\n      <td>606</td>\n      <td>1250</td>\n      <td>3.5</td>\n      <td>1171376891</td>\n      <td>3.0</td>\n    </tr>\n    <tr>\n      <th>38197</th>\n      <td>262</td>\n      <td>213</td>\n      <td>5.0</td>\n      <td>840310907</td>\n      <td>4.0</td>\n    </tr>\n    <tr>\n      <th>11474</th>\n      <td>68</td>\n      <td>69406</td>\n      <td>3.0</td>\n      <td>1261622505</td>\n      <td>1.5</td>\n    </tr>\n    <tr>\n      <th>34105</th>\n      <td>232</td>\n      <td>4728</td>\n      <td>3.0</td>\n      <td>1218166950</td>\n      <td>1.0</td>\n    </tr>\n    <tr>\n      <th>...</th>\n      <td>...</td>\n      <td>...</td>\n      <td>...</td>\n      <td>...</td>\n      <td>...</td>\n    </tr>\n    <tr>\n      <th>24735</th>\n      <td>172</td>\n      <td>1982</td>\n      <td>3.0</td>\n      <td>1238716057</td>\n      <td>0.5</td>\n    </tr>\n    <tr>\n      <th>5825</th>\n      <td>41</td>\n      <td>69757</td>\n      <td>3.5</td>\n      <td>1458938869</td>\n      <td>2.5</td>\n    </tr>\n    <tr>\n      <th>11128</th>\n      <td>68</td>\n      <td>6893</td>\n      <td>3.5</td>\n      <td>1158534072</td>\n      <td>3.5</td>\n    </tr>\n    <tr>\n      <th>2231</th>\n      <td>18</td>\n      <td>117176</td>\n      <td>4.0</td>\n      <td>1473004722</td>\n      <td>2.0</td>\n    </tr>\n    <tr>\n      <th>75290</th>\n      <td>475</td>\n      <td>45722</td>\n      <td>4.5</td>\n      <td>1498030315</td>\n      <td>2.0</td>\n    </tr>\n  </tbody>\n</table>\n<p>30251 rows × 5 columns</p>\n</div>"
     },
     "metadata": {},
     "execution_count": 19
    }
   ],
   "source": [
    "test_df['pred_ratings_random'] = pred_random\n",
    "test_df"
   ]
  },
  {
   "cell_type": "code",
   "execution_count": 20,
   "metadata": {},
   "outputs": [
    {
     "output_type": "stream",
     "name": "stdout",
     "text": [
      "3.6997950480975836 1.9234851307191287\n"
     ]
    }
   ],
   "source": [
    "mse = mean_squared_error(y_true=test_df['rating'].values, y_pred=test_df['pred_ratings_random'].values)\n",
    "rmse = np.sqrt(mse)\n",
    "\n",
    "print(mse, rmse)"
   ]
  },
  {
   "cell_type": "markdown",
   "metadata": {},
   "source": [
    "###  영화 평균 평점기반 예측하기\n",
    "\n",
    "1. train set의 모든 영화에 대해서 평균 평점 구하기\n",
    "2. test set 예측할 때, train set의 영화 평균 평점 활용하기. 만약 없다면, random으로 선택하기."
   ]
  },
  {
   "cell_type": "code",
   "execution_count": 21,
   "metadata": {},
   "outputs": [
    {
     "output_type": "stream",
     "name": "stdout",
     "text": [
      "(8515, 3)\n",
      "             userId    rating     timestamp\n",
      "movieId                                    \n",
      "1        307.115646  3.884354  1.128729e+09\n",
      "2        321.148649  3.432432  1.161156e+09\n",
      "3        277.150000  3.462500  9.941003e+08\n",
      "4        192.750000  2.250000  8.425133e+08\n",
      "5        305.685714  3.042857  1.020735e+09\n"
     ]
    }
   ],
   "source": [
    "train_movie_df = train_df.groupby('movieId').mean()\n",
    "\n",
    "print(train_movie_df.shape)\n",
    "print(train_movie_df.head())"
   ]
  },
  {
   "cell_type": "code",
   "execution_count": 22,
   "metadata": {},
   "outputs": [],
   "source": [
    "def avg_rating_prediction(training_set, x):                 # 영화의 평균 평점 기반으로 예상 평점 구하기\n",
    "    if x in training_set.index:\n",
    "        pred_rating = training_set.loc[x]['rating']\n",
    "    else:\n",
    "        pred_rating = random.choice(ratings_range)\n",
    "    return pred_rating"
   ]
  },
  {
   "cell_type": "code",
   "execution_count": 23,
   "metadata": {},
   "outputs": [
    {
     "output_type": "execute_result",
     "data": {
      "text/plain": [
       "       userId  movieId  rating   timestamp  pred_ratings_random  \\\n",
       "99731     610     3527     5.0  1479545223                  2.5   \n",
       "97583     606     1250     3.5  1171376891                  3.0   \n",
       "38197     262      213     5.0   840310907                  4.0   \n",
       "11474      68    69406     3.0  1261622505                  1.5   \n",
       "34105     232     4728     3.0  1218166950                  1.0   \n",
       "\n",
       "       pred_rating_movie  \n",
       "99731           3.592105  \n",
       "97583           4.140625  \n",
       "38197           3.750000  \n",
       "11474           3.454545  \n",
       "34105           2.769231  "
      ],
      "text/html": "<div>\n<style scoped>\n    .dataframe tbody tr th:only-of-type {\n        vertical-align: middle;\n    }\n\n    .dataframe tbody tr th {\n        vertical-align: top;\n    }\n\n    .dataframe thead th {\n        text-align: right;\n    }\n</style>\n<table border=\"1\" class=\"dataframe\">\n  <thead>\n    <tr style=\"text-align: right;\">\n      <th></th>\n      <th>userId</th>\n      <th>movieId</th>\n      <th>rating</th>\n      <th>timestamp</th>\n      <th>pred_ratings_random</th>\n      <th>pred_rating_movie</th>\n    </tr>\n  </thead>\n  <tbody>\n    <tr>\n      <th>99731</th>\n      <td>610</td>\n      <td>3527</td>\n      <td>5.0</td>\n      <td>1479545223</td>\n      <td>2.5</td>\n      <td>3.592105</td>\n    </tr>\n    <tr>\n      <th>97583</th>\n      <td>606</td>\n      <td>1250</td>\n      <td>3.5</td>\n      <td>1171376891</td>\n      <td>3.0</td>\n      <td>4.140625</td>\n    </tr>\n    <tr>\n      <th>38197</th>\n      <td>262</td>\n      <td>213</td>\n      <td>5.0</td>\n      <td>840310907</td>\n      <td>4.0</td>\n      <td>3.750000</td>\n    </tr>\n    <tr>\n      <th>11474</th>\n      <td>68</td>\n      <td>69406</td>\n      <td>3.0</td>\n      <td>1261622505</td>\n      <td>1.5</td>\n      <td>3.454545</td>\n    </tr>\n    <tr>\n      <th>34105</th>\n      <td>232</td>\n      <td>4728</td>\n      <td>3.0</td>\n      <td>1218166950</td>\n      <td>1.0</td>\n      <td>2.769231</td>\n    </tr>\n  </tbody>\n</table>\n</div>"
     },
     "metadata": {},
     "execution_count": 23
    }
   ],
   "source": [
    "test_df['pred_rating_movie'] = test_df['movieId'].apply(lambda x: avg_rating_prediction(train_movie_df, x))\n",
    "\n",
    "test_df.head()"
   ]
  },
  {
   "cell_type": "code",
   "execution_count": 24,
   "metadata": {},
   "outputs": [
    {
     "output_type": "stream",
     "name": "stdout",
     "text": [
      "1.0715493316455182 1.035156670096618\n"
     ]
    }
   ],
   "source": [
    "mse = mean_squared_error(y_true=test_df['rating'].values, y_pred=test_df['pred_rating_movie'].values)\n",
    "rmse = np.sqrt(mse)\n",
    "\n",
    "print(mse, rmse)"
   ]
  },
  {
   "cell_type": "markdown",
   "metadata": {},
   "source": [
    "### 사용자 평균 평점기반 예측하기\n",
    "\n",
    "1. train set의 모든 유저가 준 평균 평점\n",
    "2. test set 예측할 때, 유저가 train set에서 준 평균 평점을 활용. 유저가 없을 경우 random 평점 적용"
   ]
  },
  {
   "cell_type": "code",
   "execution_count": 25,
   "metadata": {},
   "outputs": [
    {
     "output_type": "stream",
     "name": "stdout",
     "text": [
      "(610, 3)\n             movieId    rating     timestamp\nuserId                                      \n1        1876.043210  4.271605  9.649824e+08\n2       71289.000000  3.954545  1.445715e+09\n3       10552.681818  2.340909  1.306464e+09\n4        1953.664516  3.567742  9.659816e+08\n5         328.250000  3.678571  8.474351e+08\n"
     ]
    }
   ],
   "source": [
    "train_user_df = train_df.groupby('userId').mean()\n",
    "\n",
    "print(train_user_df.shape)\n",
    "print(train_user_df.head())"
   ]
  },
  {
   "cell_type": "code",
   "execution_count": 26,
   "metadata": {},
   "outputs": [
    {
     "output_type": "execute_result",
     "data": {
      "text/plain": [
       "       userId  movieId  rating   timestamp  pred_ratings_random  \\\n",
       "99731     610     3527     5.0  1479545223                  2.5   \n",
       "97583     606     1250     3.5  1171376891                  3.0   \n",
       "38197     262      213     5.0   840310907                  4.0   \n",
       "11474      68    69406     3.0  1261622505                  1.5   \n",
       "34105     232     4728     3.0  1218166950                  1.0   \n",
       "\n",
       "       pred_rating_movie  pred_rating_user  \n",
       "99731           3.592105          3.685022  \n",
       "97583           4.140625          3.662127  \n",
       "38197           3.750000          2.945946  \n",
       "11474           3.454545          3.237079  \n",
       "34105           2.769231          3.265090  "
      ],
      "text/html": "<div>\n<style scoped>\n    .dataframe tbody tr th:only-of-type {\n        vertical-align: middle;\n    }\n\n    .dataframe tbody tr th {\n        vertical-align: top;\n    }\n\n    .dataframe thead th {\n        text-align: right;\n    }\n</style>\n<table border=\"1\" class=\"dataframe\">\n  <thead>\n    <tr style=\"text-align: right;\">\n      <th></th>\n      <th>userId</th>\n      <th>movieId</th>\n      <th>rating</th>\n      <th>timestamp</th>\n      <th>pred_ratings_random</th>\n      <th>pred_rating_movie</th>\n      <th>pred_rating_user</th>\n    </tr>\n  </thead>\n  <tbody>\n    <tr>\n      <th>99731</th>\n      <td>610</td>\n      <td>3527</td>\n      <td>5.0</td>\n      <td>1479545223</td>\n      <td>2.5</td>\n      <td>3.592105</td>\n      <td>3.685022</td>\n    </tr>\n    <tr>\n      <th>97583</th>\n      <td>606</td>\n      <td>1250</td>\n      <td>3.5</td>\n      <td>1171376891</td>\n      <td>3.0</td>\n      <td>4.140625</td>\n      <td>3.662127</td>\n    </tr>\n    <tr>\n      <th>38197</th>\n      <td>262</td>\n      <td>213</td>\n      <td>5.0</td>\n      <td>840310907</td>\n      <td>4.0</td>\n      <td>3.750000</td>\n      <td>2.945946</td>\n    </tr>\n    <tr>\n      <th>11474</th>\n      <td>68</td>\n      <td>69406</td>\n      <td>3.0</td>\n      <td>1261622505</td>\n      <td>1.5</td>\n      <td>3.454545</td>\n      <td>3.237079</td>\n    </tr>\n    <tr>\n      <th>34105</th>\n      <td>232</td>\n      <td>4728</td>\n      <td>3.0</td>\n      <td>1218166950</td>\n      <td>1.0</td>\n      <td>2.769231</td>\n      <td>3.265090</td>\n    </tr>\n  </tbody>\n</table>\n</div>"
     },
     "metadata": {},
     "execution_count": 26
    }
   ],
   "source": [
    "test_df['pred_rating_user'] = test_df['userId'].apply(lambda x: avg_rating_prediction(train_user_df, x))\n",
    "\n",
    "test_df.head()"
   ]
  },
  {
   "cell_type": "code",
   "execution_count": 27,
   "metadata": {},
   "outputs": [
    {
     "output_type": "stream",
     "name": "stdout",
     "text": [
      "0.8848494933593299 0.9406643893330554\n"
     ]
    }
   ],
   "source": [
    "mse = mean_squared_error(y_true=test_df['rating'].values, y_pred=test_df['pred_rating_user'].values)\n",
    "rmse = np.sqrt(mse)\n",
    "\n",
    "print(mse, rmse)"
   ]
  },
  {
   "cell_type": "markdown",
   "metadata": {},
   "source": [
    "### Rule 기반 영화 평점 예측하기\n",
    "\n",
    "1. train set에 포함된 유저의 영화 평균 평점과 영화의 장르를 활용하여, 장르별 평균 평점 계산 -> test set의 영화 장르의 평균 평점으로 예측"
   ]
  },
  {
   "cell_type": "code",
   "execution_count": 28,
   "metadata": {},
   "outputs": [],
   "source": [
    "# create user_movie matrix by only using train_df\n",
    "train_user_movie_matrix = train_df.pivot(\n",
    "    index='movieId',\n",
    "    columns='userId',\n",
    "    values='rating'\n",
    ").fillna(0)"
   ]
  },
  {
   "cell_type": "code",
   "execution_count": 29,
   "metadata": {},
   "outputs": [
    {
     "output_type": "execute_result",
     "data": {
      "text/plain": [
       "userId   1    2    3    4    5    6    7    8    9    10   ...  601  602  603  \\\n",
       "movieId                                                    ...                  \n",
       "1        0.0  0.0  0.0  0.0  4.0  0.0  4.5  0.0  0.0  0.0  ...  4.0  0.0  4.0   \n",
       "2        0.0  0.0  0.0  0.0  0.0  0.0  0.0  4.0  0.0  0.0  ...  0.0  4.0  0.0   \n",
       "3        4.0  0.0  0.0  0.0  0.0  0.0  0.0  0.0  0.0  0.0  ...  0.0  0.0  0.0   \n",
       "4        0.0  0.0  0.0  0.0  0.0  0.0  0.0  0.0  0.0  0.0  ...  0.0  0.0  0.0   \n",
       "5        0.0  0.0  0.0  0.0  0.0  5.0  0.0  0.0  0.0  0.0  ...  0.0  0.0  0.0   \n",
       "...      ...  ...  ...  ...  ...  ...  ...  ...  ...  ...  ...  ...  ...  ...   \n",
       "193571   0.0  0.0  0.0  0.0  0.0  0.0  0.0  0.0  0.0  0.0  ...  0.0  0.0  0.0   \n",
       "193573   0.0  0.0  0.0  0.0  0.0  0.0  0.0  0.0  0.0  0.0  ...  0.0  0.0  0.0   \n",
       "193579   0.0  0.0  0.0  0.0  0.0  0.0  0.0  0.0  0.0  0.0  ...  0.0  0.0  0.0   \n",
       "193581   0.0  0.0  0.0  0.0  0.0  0.0  0.0  0.0  0.0  0.0  ...  0.0  0.0  0.0   \n",
       "193609   0.0  0.0  0.0  0.0  0.0  0.0  0.0  0.0  0.0  0.0  ...  0.0  0.0  0.0   \n",
       "\n",
       "userId   604  605  606  607  608  609  610  \n",
       "movieId                                     \n",
       "1        0.0  4.0  2.5  0.0  2.5  0.0  5.0  \n",
       "2        0.0  3.5  0.0  0.0  0.0  0.0  0.0  \n",
       "3        0.0  0.0  0.0  0.0  0.0  0.0  0.0  \n",
       "4        0.0  0.0  0.0  0.0  0.0  0.0  0.0  \n",
       "5        0.0  0.0  0.0  0.0  0.0  0.0  0.0  \n",
       "...      ...  ...  ...  ...  ...  ...  ...  \n",
       "193571   0.0  0.0  0.0  0.0  0.0  0.0  0.0  \n",
       "193573   0.0  0.0  0.0  0.0  0.0  0.0  0.0  \n",
       "193579   0.0  0.0  0.0  0.0  0.0  0.0  0.0  \n",
       "193581   0.0  0.0  0.0  0.0  0.0  0.0  0.0  \n",
       "193609   0.0  0.0  0.0  0.0  0.0  0.0  0.0  \n",
       "\n",
       "[8515 rows x 610 columns]"
      ],
      "text/html": "<div>\n<style scoped>\n    .dataframe tbody tr th:only-of-type {\n        vertical-align: middle;\n    }\n\n    .dataframe tbody tr th {\n        vertical-align: top;\n    }\n\n    .dataframe thead th {\n        text-align: right;\n    }\n</style>\n<table border=\"1\" class=\"dataframe\">\n  <thead>\n    <tr style=\"text-align: right;\">\n      <th>userId</th>\n      <th>1</th>\n      <th>2</th>\n      <th>3</th>\n      <th>4</th>\n      <th>5</th>\n      <th>6</th>\n      <th>7</th>\n      <th>8</th>\n      <th>9</th>\n      <th>10</th>\n      <th>...</th>\n      <th>601</th>\n      <th>602</th>\n      <th>603</th>\n      <th>604</th>\n      <th>605</th>\n      <th>606</th>\n      <th>607</th>\n      <th>608</th>\n      <th>609</th>\n      <th>610</th>\n    </tr>\n    <tr>\n      <th>movieId</th>\n      <th></th>\n      <th></th>\n      <th></th>\n      <th></th>\n      <th></th>\n      <th></th>\n      <th></th>\n      <th></th>\n      <th></th>\n      <th></th>\n      <th></th>\n      <th></th>\n      <th></th>\n      <th></th>\n      <th></th>\n      <th></th>\n      <th></th>\n      <th></th>\n      <th></th>\n      <th></th>\n      <th></th>\n    </tr>\n  </thead>\n  <tbody>\n    <tr>\n      <th>1</th>\n      <td>0.0</td>\n      <td>0.0</td>\n      <td>0.0</td>\n      <td>0.0</td>\n      <td>4.0</td>\n      <td>0.0</td>\n      <td>4.5</td>\n      <td>0.0</td>\n      <td>0.0</td>\n      <td>0.0</td>\n      <td>...</td>\n      <td>4.0</td>\n      <td>0.0</td>\n      <td>4.0</td>\n      <td>0.0</td>\n      <td>4.0</td>\n      <td>2.5</td>\n      <td>0.0</td>\n      <td>2.5</td>\n      <td>0.0</td>\n      <td>5.0</td>\n    </tr>\n    <tr>\n      <th>2</th>\n      <td>0.0</td>\n      <td>0.0</td>\n      <td>0.0</td>\n      <td>0.0</td>\n      <td>0.0</td>\n      <td>0.0</td>\n      <td>0.0</td>\n      <td>4.0</td>\n      <td>0.0</td>\n      <td>0.0</td>\n      <td>...</td>\n      <td>0.0</td>\n      <td>4.0</td>\n      <td>0.0</td>\n      <td>0.0</td>\n      <td>3.5</td>\n      <td>0.0</td>\n      <td>0.0</td>\n      <td>0.0</td>\n      <td>0.0</td>\n      <td>0.0</td>\n    </tr>\n    <tr>\n      <th>3</th>\n      <td>4.0</td>\n      <td>0.0</td>\n      <td>0.0</td>\n      <td>0.0</td>\n      <td>0.0</td>\n      <td>0.0</td>\n      <td>0.0</td>\n      <td>0.0</td>\n      <td>0.0</td>\n      <td>0.0</td>\n      <td>...</td>\n      <td>0.0</td>\n      <td>0.0</td>\n      <td>0.0</td>\n      <td>0.0</td>\n      <td>0.0</td>\n      <td>0.0</td>\n      <td>0.0</td>\n      <td>0.0</td>\n      <td>0.0</td>\n      <td>0.0</td>\n    </tr>\n    <tr>\n      <th>4</th>\n      <td>0.0</td>\n      <td>0.0</td>\n      <td>0.0</td>\n      <td>0.0</td>\n      <td>0.0</td>\n      <td>0.0</td>\n      <td>0.0</td>\n      <td>0.0</td>\n      <td>0.0</td>\n      <td>0.0</td>\n      <td>...</td>\n      <td>0.0</td>\n      <td>0.0</td>\n      <td>0.0</td>\n      <td>0.0</td>\n      <td>0.0</td>\n      <td>0.0</td>\n      <td>0.0</td>\n      <td>0.0</td>\n      <td>0.0</td>\n      <td>0.0</td>\n    </tr>\n    <tr>\n      <th>5</th>\n      <td>0.0</td>\n      <td>0.0</td>\n      <td>0.0</td>\n      <td>0.0</td>\n      <td>0.0</td>\n      <td>5.0</td>\n      <td>0.0</td>\n      <td>0.0</td>\n      <td>0.0</td>\n      <td>0.0</td>\n      <td>...</td>\n      <td>0.0</td>\n      <td>0.0</td>\n      <td>0.0</td>\n      <td>0.0</td>\n      <td>0.0</td>\n      <td>0.0</td>\n      <td>0.0</td>\n      <td>0.0</td>\n      <td>0.0</td>\n      <td>0.0</td>\n    </tr>\n    <tr>\n      <th>...</th>\n      <td>...</td>\n      <td>...</td>\n      <td>...</td>\n      <td>...</td>\n      <td>...</td>\n      <td>...</td>\n      <td>...</td>\n      <td>...</td>\n      <td>...</td>\n      <td>...</td>\n      <td>...</td>\n      <td>...</td>\n      <td>...</td>\n      <td>...</td>\n      <td>...</td>\n      <td>...</td>\n      <td>...</td>\n      <td>...</td>\n      <td>...</td>\n      <td>...</td>\n      <td>...</td>\n    </tr>\n    <tr>\n      <th>193571</th>\n      <td>0.0</td>\n      <td>0.0</td>\n      <td>0.0</td>\n      <td>0.0</td>\n      <td>0.0</td>\n      <td>0.0</td>\n      <td>0.0</td>\n      <td>0.0</td>\n      <td>0.0</td>\n      <td>0.0</td>\n      <td>...</td>\n      <td>0.0</td>\n      <td>0.0</td>\n      <td>0.0</td>\n      <td>0.0</td>\n      <td>0.0</td>\n      <td>0.0</td>\n      <td>0.0</td>\n      <td>0.0</td>\n      <td>0.0</td>\n      <td>0.0</td>\n    </tr>\n    <tr>\n      <th>193573</th>\n      <td>0.0</td>\n      <td>0.0</td>\n      <td>0.0</td>\n      <td>0.0</td>\n      <td>0.0</td>\n      <td>0.0</td>\n      <td>0.0</td>\n      <td>0.0</td>\n      <td>0.0</td>\n      <td>0.0</td>\n      <td>...</td>\n      <td>0.0</td>\n      <td>0.0</td>\n      <td>0.0</td>\n      <td>0.0</td>\n      <td>0.0</td>\n      <td>0.0</td>\n      <td>0.0</td>\n      <td>0.0</td>\n      <td>0.0</td>\n      <td>0.0</td>\n    </tr>\n    <tr>\n      <th>193579</th>\n      <td>0.0</td>\n      <td>0.0</td>\n      <td>0.0</td>\n      <td>0.0</td>\n      <td>0.0</td>\n      <td>0.0</td>\n      <td>0.0</td>\n      <td>0.0</td>\n      <td>0.0</td>\n      <td>0.0</td>\n      <td>...</td>\n      <td>0.0</td>\n      <td>0.0</td>\n      <td>0.0</td>\n      <td>0.0</td>\n      <td>0.0</td>\n      <td>0.0</td>\n      <td>0.0</td>\n      <td>0.0</td>\n      <td>0.0</td>\n      <td>0.0</td>\n    </tr>\n    <tr>\n      <th>193581</th>\n      <td>0.0</td>\n      <td>0.0</td>\n      <td>0.0</td>\n      <td>0.0</td>\n      <td>0.0</td>\n      <td>0.0</td>\n      <td>0.0</td>\n      <td>0.0</td>\n      <td>0.0</td>\n      <td>0.0</td>\n      <td>...</td>\n      <td>0.0</td>\n      <td>0.0</td>\n      <td>0.0</td>\n      <td>0.0</td>\n      <td>0.0</td>\n      <td>0.0</td>\n      <td>0.0</td>\n      <td>0.0</td>\n      <td>0.0</td>\n      <td>0.0</td>\n    </tr>\n    <tr>\n      <th>193609</th>\n      <td>0.0</td>\n      <td>0.0</td>\n      <td>0.0</td>\n      <td>0.0</td>\n      <td>0.0</td>\n      <td>0.0</td>\n      <td>0.0</td>\n      <td>0.0</td>\n      <td>0.0</td>\n      <td>0.0</td>\n      <td>...</td>\n      <td>0.0</td>\n      <td>0.0</td>\n      <td>0.0</td>\n      <td>0.0</td>\n      <td>0.0</td>\n      <td>0.0</td>\n      <td>0.0</td>\n      <td>0.0</td>\n      <td>0.0</td>\n      <td>0.0</td>\n    </tr>\n  </tbody>\n</table>\n<p>8515 rows × 610 columns</p>\n</div>"
     },
     "metadata": {},
     "execution_count": 29
    }
   ],
   "source": [
    "train_user_movie_matrix"
   ]
  },
  {
   "cell_type": "code",
   "execution_count": 30,
   "metadata": {},
   "outputs": [
    {
     "output_type": "stream",
     "name": "stdout",
     "text": [
      "(9742, 20)\n(8515, 20)\n"
     ]
    },
    {
     "output_type": "execute_result",
     "data": {
      "text/plain": [
       "         (no genres listed)  Action  Adventure  Animation  Children  Comedy  \\\n",
       "movieId                                                                       \n",
       "4591                      0       0          1          0         0       1   \n",
       "161                       0       0          0          0         0       0   \n",
       "5073                      0       0          0          0         0       0   \n",
       "5128                      0       0          0          0         0       0   \n",
       "1186                      0       0          0          0         0       0   \n",
       "\n",
       "         Crime  Documentary  Drama  Fantasy  Film-Noir  Horror  IMAX  Musical  \\\n",
       "movieId                                                                         \n",
       "4591         0            0      0        1          0       0     0        0   \n",
       "161          0            0      1        0          0       0     0        0   \n",
       "5073         0            0      1        0          0       0     0        0   \n",
       "5128         0            0      0        1          0       1     0        0   \n",
       "1186         0            0      1        0          0       0     0        0   \n",
       "\n",
       "         Mystery  Romance  Sci-Fi  Thriller  War  Western  \n",
       "movieId                                                    \n",
       "4591           0        0       0         0    0        0  \n",
       "161            0        0       0         1    1        0  \n",
       "5073           0        0       0         0    0        0  \n",
       "5128           0        0       0         0    0        0  \n",
       "1186           0        0       0         0    0        0  "
      ],
      "text/html": "<div>\n<style scoped>\n    .dataframe tbody tr th:only-of-type {\n        vertical-align: middle;\n    }\n\n    .dataframe tbody tr th {\n        vertical-align: top;\n    }\n\n    .dataframe thead th {\n        text-align: right;\n    }\n</style>\n<table border=\"1\" class=\"dataframe\">\n  <thead>\n    <tr style=\"text-align: right;\">\n      <th></th>\n      <th>(no genres listed)</th>\n      <th>Action</th>\n      <th>Adventure</th>\n      <th>Animation</th>\n      <th>Children</th>\n      <th>Comedy</th>\n      <th>Crime</th>\n      <th>Documentary</th>\n      <th>Drama</th>\n      <th>Fantasy</th>\n      <th>Film-Noir</th>\n      <th>Horror</th>\n      <th>IMAX</th>\n      <th>Musical</th>\n      <th>Mystery</th>\n      <th>Romance</th>\n      <th>Sci-Fi</th>\n      <th>Thriller</th>\n      <th>War</th>\n      <th>Western</th>\n    </tr>\n    <tr>\n      <th>movieId</th>\n      <th></th>\n      <th></th>\n      <th></th>\n      <th></th>\n      <th></th>\n      <th></th>\n      <th></th>\n      <th></th>\n      <th></th>\n      <th></th>\n      <th></th>\n      <th></th>\n      <th></th>\n      <th></th>\n      <th></th>\n      <th></th>\n      <th></th>\n      <th></th>\n      <th></th>\n      <th></th>\n    </tr>\n  </thead>\n  <tbody>\n    <tr>\n      <th>4591</th>\n      <td>0</td>\n      <td>0</td>\n      <td>1</td>\n      <td>0</td>\n      <td>0</td>\n      <td>1</td>\n      <td>0</td>\n      <td>0</td>\n      <td>0</td>\n      <td>1</td>\n      <td>0</td>\n      <td>0</td>\n      <td>0</td>\n      <td>0</td>\n      <td>0</td>\n      <td>0</td>\n      <td>0</td>\n      <td>0</td>\n      <td>0</td>\n      <td>0</td>\n    </tr>\n    <tr>\n      <th>161</th>\n      <td>0</td>\n      <td>0</td>\n      <td>0</td>\n      <td>0</td>\n      <td>0</td>\n      <td>0</td>\n      <td>0</td>\n      <td>0</td>\n      <td>1</td>\n      <td>0</td>\n      <td>0</td>\n      <td>0</td>\n      <td>0</td>\n      <td>0</td>\n      <td>0</td>\n      <td>0</td>\n      <td>0</td>\n      <td>1</td>\n      <td>1</td>\n      <td>0</td>\n    </tr>\n    <tr>\n      <th>5073</th>\n      <td>0</td>\n      <td>0</td>\n      <td>0</td>\n      <td>0</td>\n      <td>0</td>\n      <td>0</td>\n      <td>0</td>\n      <td>0</td>\n      <td>1</td>\n      <td>0</td>\n      <td>0</td>\n      <td>0</td>\n      <td>0</td>\n      <td>0</td>\n      <td>0</td>\n      <td>0</td>\n      <td>0</td>\n      <td>0</td>\n      <td>0</td>\n      <td>0</td>\n    </tr>\n    <tr>\n      <th>5128</th>\n      <td>0</td>\n      <td>0</td>\n      <td>0</td>\n      <td>0</td>\n      <td>0</td>\n      <td>0</td>\n      <td>0</td>\n      <td>0</td>\n      <td>0</td>\n      <td>1</td>\n      <td>0</td>\n      <td>1</td>\n      <td>0</td>\n      <td>0</td>\n      <td>0</td>\n      <td>0</td>\n      <td>0</td>\n      <td>0</td>\n      <td>0</td>\n      <td>0</td>\n    </tr>\n    <tr>\n      <th>1186</th>\n      <td>0</td>\n      <td>0</td>\n      <td>0</td>\n      <td>0</td>\n      <td>0</td>\n      <td>0</td>\n      <td>0</td>\n      <td>0</td>\n      <td>1</td>\n      <td>0</td>\n      <td>0</td>\n      <td>0</td>\n      <td>0</td>\n      <td>0</td>\n      <td>0</td>\n      <td>0</td>\n      <td>0</td>\n      <td>0</td>\n      <td>0</td>\n      <td>0</td>\n    </tr>\n  </tbody>\n</table>\n</div>"
     },
     "metadata": {},
     "execution_count": 30
    }
   ],
   "source": [
    "genres_df = movies_df['genres'].str.get_dummies(sep='|')\n",
    "print(genres_df.shape)\n",
    "genres_df = genres_df.loc[train_df.movieId.unique()]\n",
    "print(genres_df.shape)\n",
    "genres_df.head()"
   ]
  },
  {
   "cell_type": "code",
   "execution_count": 31,
   "metadata": {},
   "outputs": [
    {
     "output_type": "execute_result",
     "data": {
      "text/plain": [
       "movieId\n",
       "1    3.884354\n",
       "2    3.432432\n",
       "3    3.462500\n",
       "4    2.250000\n",
       "5    3.042857\n",
       "dtype: float64"
      ]
     },
     "metadata": {},
     "execution_count": 31
    }
   ],
   "source": [
    "# trainset에서 영화별 유저 평점 평균\n",
    "train_movie_avg_ratings_df = train_user_movie_matrix.copy()\n",
    "train_movie_avg_ratings_df = train_movie_avg_ratings_df.replace(0, np.NaN)\n",
    "train_movie_avg_ratings_df = train_movie_avg_ratings_df.mean(axis = 1)\n",
    "\n",
    "train_movie_avg_ratings_df.head()"
   ]
  },
  {
   "cell_type": "code",
   "execution_count": 32,
   "metadata": {},
   "outputs": [
    {
     "output_type": "execute_result",
     "data": {
      "text/plain": [
       "                   avg_ratings\n",
       "(no genres listed)     3.46181\n",
       "Action                  3.1208\n",
       "Adventure              3.23623\n",
       "Animation              3.47415\n",
       "Children               3.10769\n",
       "Comedy                 3.17972\n",
       "Crime                  3.31178\n",
       "Documentary            3.77086\n",
       "Drama                  3.43173\n",
       "Fantasy                3.24693\n",
       "Film-Noir              3.74102\n",
       "Horror                 2.90901\n",
       "IMAX                   3.27217\n",
       "Musical                3.31337\n",
       "Mystery                3.34789\n",
       "Romance                3.34226\n",
       "Sci-Fi                 3.13015\n",
       "Thriller               3.17279\n",
       "War                    3.56435\n",
       "Western                3.40911"
      ],
      "text/html": "<div>\n<style scoped>\n    .dataframe tbody tr th:only-of-type {\n        vertical-align: middle;\n    }\n\n    .dataframe tbody tr th {\n        vertical-align: top;\n    }\n\n    .dataframe thead th {\n        text-align: right;\n    }\n</style>\n<table border=\"1\" class=\"dataframe\">\n  <thead>\n    <tr style=\"text-align: right;\">\n      <th></th>\n      <th>avg_ratings</th>\n    </tr>\n  </thead>\n  <tbody>\n    <tr>\n      <th>(no genres listed)</th>\n      <td>3.46181</td>\n    </tr>\n    <tr>\n      <th>Action</th>\n      <td>3.1208</td>\n    </tr>\n    <tr>\n      <th>Adventure</th>\n      <td>3.23623</td>\n    </tr>\n    <tr>\n      <th>Animation</th>\n      <td>3.47415</td>\n    </tr>\n    <tr>\n      <th>Children</th>\n      <td>3.10769</td>\n    </tr>\n    <tr>\n      <th>Comedy</th>\n      <td>3.17972</td>\n    </tr>\n    <tr>\n      <th>Crime</th>\n      <td>3.31178</td>\n    </tr>\n    <tr>\n      <th>Documentary</th>\n      <td>3.77086</td>\n    </tr>\n    <tr>\n      <th>Drama</th>\n      <td>3.43173</td>\n    </tr>\n    <tr>\n      <th>Fantasy</th>\n      <td>3.24693</td>\n    </tr>\n    <tr>\n      <th>Film-Noir</th>\n      <td>3.74102</td>\n    </tr>\n    <tr>\n      <th>Horror</th>\n      <td>2.90901</td>\n    </tr>\n    <tr>\n      <th>IMAX</th>\n      <td>3.27217</td>\n    </tr>\n    <tr>\n      <th>Musical</th>\n      <td>3.31337</td>\n    </tr>\n    <tr>\n      <th>Mystery</th>\n      <td>3.34789</td>\n    </tr>\n    <tr>\n      <th>Romance</th>\n      <td>3.34226</td>\n    </tr>\n    <tr>\n      <th>Sci-Fi</th>\n      <td>3.13015</td>\n    </tr>\n    <tr>\n      <th>Thriller</th>\n      <td>3.17279</td>\n    </tr>\n    <tr>\n      <th>War</th>\n      <td>3.56435</td>\n    </tr>\n    <tr>\n      <th>Western</th>\n      <td>3.40911</td>\n    </tr>\n  </tbody>\n</table>\n</div>"
     },
     "metadata": {},
     "execution_count": 32
    }
   ],
   "source": [
    "# genres_df에서 해당 장르가 포함된 모든 영화 index를 가져와서, 해당 영화의 유저 평균 평점의 평균을 구해서 장르 평균 평점으로 활용\n",
    "genres_avg_ratings_df = pd.DataFrame(index=genres_df.columns, columns=['avg_ratings'])\n",
    "\n",
    "for genre in genres_avg_ratings_df.index:\n",
    "    genre_avg_rating = train_movie_avg_ratings_df.loc[genres_df[genres_df[genre].isin([1])].index].mean()\n",
    "    genres_avg_ratings_df.loc[genre]['avg_ratings'] = genre_avg_rating\n",
    "\n",
    "genres_avg_ratings_df"
   ]
  },
  {
   "cell_type": "code",
   "execution_count": 33,
   "metadata": {},
   "outputs": [],
   "source": [
    "def get_genre_avg_ratings(x):\n",
    "    genres_list = movies_df.loc[x]['genres'].split('|')\n",
    "    rating = 0\n",
    "    for genre in genres_list:\n",
    "        rating += genres_avg_ratings_df.loc[genre]['avg_ratings']\n",
    "    \n",
    "    return rating / len(genres_list)"
   ]
  },
  {
   "cell_type": "code",
   "execution_count": 34,
   "metadata": {},
   "outputs": [
    {
     "output_type": "stream",
     "name": "stderr",
     "text": [
      "100%|██████████| 30251/30251 [00:06<00:00, 4699.50it/s]\n"
     ]
    }
   ],
   "source": [
    "tqdm.pandas()                       # progress_apply 사용 - 진행상황 표시\n",
    "test_df['pred_rating_genre'] = test_df['movieId'].progress_apply(lambda x: get_genre_avg_ratings(x))"
   ]
  },
  {
   "cell_type": "code",
   "execution_count": 35,
   "metadata": {},
   "outputs": [
    {
     "output_type": "execute_result",
     "data": {
      "text/plain": [
       "       userId  movieId  rating   timestamp  pred_ratings_random  \\\n",
       "99731     610     3527     5.0  1479545223                  2.5   \n",
       "97583     606     1250     3.5  1171376891                  3.0   \n",
       "38197     262      213     5.0   840310907                  4.0   \n",
       "11474      68    69406     3.0  1261622505                  1.5   \n",
       "34105     232     4728     3.0  1218166950                  1.0   \n",
       "...       ...      ...     ...         ...                  ...   \n",
       "24735     172     1982     3.0  1238716057                  0.5   \n",
       "5825       41    69757     3.5  1458938869                  2.5   \n",
       "11128      68     6893     3.5  1158534072                  3.5   \n",
       "2231       18   117176     4.0  1473004722                  2.0   \n",
       "75290     475    45722     4.5  1498030315                  2.0   \n",
       "\n",
       "       pred_rating_movie  pred_rating_user  pred_rating_genre  \n",
       "99731           3.592105          3.685022           3.141247  \n",
       "97583           4.140625          3.662127           3.410769  \n",
       "38197           3.750000          2.945946           3.431731  \n",
       "11474           3.454545          3.237079           3.260991  \n",
       "34105           2.769231          3.265090           3.179721  \n",
       "...                  ...               ...                ...  \n",
       "24735           3.805556          3.900000           2.909010  \n",
       "5825            3.727273          3.175497           3.317904  \n",
       "11128           4.166667          3.237079           3.204100  \n",
       "2231            3.791667          3.736915           3.386996  \n",
       "75290           3.393617          4.398058           3.201319  \n",
       "\n",
       "[30251 rows x 8 columns]"
      ],
      "text/html": "<div>\n<style scoped>\n    .dataframe tbody tr th:only-of-type {\n        vertical-align: middle;\n    }\n\n    .dataframe tbody tr th {\n        vertical-align: top;\n    }\n\n    .dataframe thead th {\n        text-align: right;\n    }\n</style>\n<table border=\"1\" class=\"dataframe\">\n  <thead>\n    <tr style=\"text-align: right;\">\n      <th></th>\n      <th>userId</th>\n      <th>movieId</th>\n      <th>rating</th>\n      <th>timestamp</th>\n      <th>pred_ratings_random</th>\n      <th>pred_rating_movie</th>\n      <th>pred_rating_user</th>\n      <th>pred_rating_genre</th>\n    </tr>\n  </thead>\n  <tbody>\n    <tr>\n      <th>99731</th>\n      <td>610</td>\n      <td>3527</td>\n      <td>5.0</td>\n      <td>1479545223</td>\n      <td>2.5</td>\n      <td>3.592105</td>\n      <td>3.685022</td>\n      <td>3.141247</td>\n    </tr>\n    <tr>\n      <th>97583</th>\n      <td>606</td>\n      <td>1250</td>\n      <td>3.5</td>\n      <td>1171376891</td>\n      <td>3.0</td>\n      <td>4.140625</td>\n      <td>3.662127</td>\n      <td>3.410769</td>\n    </tr>\n    <tr>\n      <th>38197</th>\n      <td>262</td>\n      <td>213</td>\n      <td>5.0</td>\n      <td>840310907</td>\n      <td>4.0</td>\n      <td>3.750000</td>\n      <td>2.945946</td>\n      <td>3.431731</td>\n    </tr>\n    <tr>\n      <th>11474</th>\n      <td>68</td>\n      <td>69406</td>\n      <td>3.0</td>\n      <td>1261622505</td>\n      <td>1.5</td>\n      <td>3.454545</td>\n      <td>3.237079</td>\n      <td>3.260991</td>\n    </tr>\n    <tr>\n      <th>34105</th>\n      <td>232</td>\n      <td>4728</td>\n      <td>3.0</td>\n      <td>1218166950</td>\n      <td>1.0</td>\n      <td>2.769231</td>\n      <td>3.265090</td>\n      <td>3.179721</td>\n    </tr>\n    <tr>\n      <th>...</th>\n      <td>...</td>\n      <td>...</td>\n      <td>...</td>\n      <td>...</td>\n      <td>...</td>\n      <td>...</td>\n      <td>...</td>\n      <td>...</td>\n    </tr>\n    <tr>\n      <th>24735</th>\n      <td>172</td>\n      <td>1982</td>\n      <td>3.0</td>\n      <td>1238716057</td>\n      <td>0.5</td>\n      <td>3.805556</td>\n      <td>3.900000</td>\n      <td>2.909010</td>\n    </tr>\n    <tr>\n      <th>5825</th>\n      <td>41</td>\n      <td>69757</td>\n      <td>3.5</td>\n      <td>1458938869</td>\n      <td>2.5</td>\n      <td>3.727273</td>\n      <td>3.175497</td>\n      <td>3.317904</td>\n    </tr>\n    <tr>\n      <th>11128</th>\n      <td>68</td>\n      <td>6893</td>\n      <td>3.5</td>\n      <td>1158534072</td>\n      <td>3.5</td>\n      <td>4.166667</td>\n      <td>3.237079</td>\n      <td>3.204100</td>\n    </tr>\n    <tr>\n      <th>2231</th>\n      <td>18</td>\n      <td>117176</td>\n      <td>4.0</td>\n      <td>1473004722</td>\n      <td>2.0</td>\n      <td>3.791667</td>\n      <td>3.736915</td>\n      <td>3.386996</td>\n    </tr>\n    <tr>\n      <th>75290</th>\n      <td>475</td>\n      <td>45722</td>\n      <td>4.5</td>\n      <td>1498030315</td>\n      <td>2.0</td>\n      <td>3.393617</td>\n      <td>4.398058</td>\n      <td>3.201319</td>\n    </tr>\n  </tbody>\n</table>\n<p>30251 rows × 8 columns</p>\n</div>"
     },
     "metadata": {},
     "execution_count": 35
    }
   ],
   "source": [
    "test_df"
   ]
  },
  {
   "cell_type": "code",
   "execution_count": 36,
   "metadata": {},
   "outputs": [
    {
     "output_type": "stream",
     "name": "stdout",
     "text": [
      "1.1200127449284865 1.05830654582143\n"
     ]
    }
   ],
   "source": [
    "mse = mean_squared_error(y_true=test_df['rating'].values, y_pred=test_df['pred_rating_genre'].values)\n",
    "rmse = np.sqrt(mse)\n",
    "\n",
    "print(mse, rmse)"
   ]
  },
  {
   "cell_type": "markdown",
   "metadata": {},
   "source": [
    "### Rule 기반 영화 평점 예측하기\n",
    "\n",
    "2. user의 평균 영화 평점을 normalize해서 확인하기, 평점 측정 수, 표준편차 등 활용가능 "
   ]
  },
  {
   "cell_type": "code",
   "execution_count": 37,
   "metadata": {},
   "outputs": [
    {
     "output_type": "execute_result",
     "data": {
      "text/plain": [
       "        avg_ratings  std_ratings  count_ratings\n",
       "userId                                         \n",
       "1          4.271605     0.863509            162\n",
       "2          3.954545     0.843873             22\n",
       "3          2.340909     2.151336             22\n",
       "4          3.567742     1.324197            155\n",
       "5          3.678571     0.983327             28\n",
       "...             ...          ...            ...\n",
       "606        3.662127     0.719157            771\n",
       "607        3.803150     0.984316            127\n",
       "608        3.158895     1.085355            579\n",
       "609        3.285714     0.460044             28\n",
       "610        3.685022     0.866131            908\n",
       "\n",
       "[610 rows x 3 columns]"
      ],
      "text/html": "<div>\n<style scoped>\n    .dataframe tbody tr th:only-of-type {\n        vertical-align: middle;\n    }\n\n    .dataframe tbody tr th {\n        vertical-align: top;\n    }\n\n    .dataframe thead th {\n        text-align: right;\n    }\n</style>\n<table border=\"1\" class=\"dataframe\">\n  <thead>\n    <tr style=\"text-align: right;\">\n      <th></th>\n      <th>avg_ratings</th>\n      <th>std_ratings</th>\n      <th>count_ratings</th>\n    </tr>\n    <tr>\n      <th>userId</th>\n      <th></th>\n      <th></th>\n      <th></th>\n    </tr>\n  </thead>\n  <tbody>\n    <tr>\n      <th>1</th>\n      <td>4.271605</td>\n      <td>0.863509</td>\n      <td>162</td>\n    </tr>\n    <tr>\n      <th>2</th>\n      <td>3.954545</td>\n      <td>0.843873</td>\n      <td>22</td>\n    </tr>\n    <tr>\n      <th>3</th>\n      <td>2.340909</td>\n      <td>2.151336</td>\n      <td>22</td>\n    </tr>\n    <tr>\n      <th>4</th>\n      <td>3.567742</td>\n      <td>1.324197</td>\n      <td>155</td>\n    </tr>\n    <tr>\n      <th>5</th>\n      <td>3.678571</td>\n      <td>0.983327</td>\n      <td>28</td>\n    </tr>\n    <tr>\n      <th>...</th>\n      <td>...</td>\n      <td>...</td>\n      <td>...</td>\n    </tr>\n    <tr>\n      <th>606</th>\n      <td>3.662127</td>\n      <td>0.719157</td>\n      <td>771</td>\n    </tr>\n    <tr>\n      <th>607</th>\n      <td>3.803150</td>\n      <td>0.984316</td>\n      <td>127</td>\n    </tr>\n    <tr>\n      <th>608</th>\n      <td>3.158895</td>\n      <td>1.085355</td>\n      <td>579</td>\n    </tr>\n    <tr>\n      <th>609</th>\n      <td>3.285714</td>\n      <td>0.460044</td>\n      <td>28</td>\n    </tr>\n    <tr>\n      <th>610</th>\n      <td>3.685022</td>\n      <td>0.866131</td>\n      <td>908</td>\n    </tr>\n  </tbody>\n</table>\n<p>610 rows × 3 columns</p>\n</div>"
     },
     "metadata": {},
     "execution_count": 37
    }
   ],
   "source": [
    "train_user_info_df = pd.DataFrame({\n",
    "    'avg_ratings': train_df.groupby('userId')['rating'].mean(),\n",
    "    'std_ratings': train_df.groupby('userId')['rating'].std(),\n",
    "    'count_ratings': train_df.groupby('userId')['rating'].count()\n",
    "})\n",
    "\n",
    "train_user_info_df"
   ]
  },
  {
   "cell_type": "code",
   "execution_count": 38,
   "metadata": {},
   "outputs": [],
   "source": [
    "min_count = train_user_info_df['count_ratings'].min()\n",
    "max_count = train_user_info_df['count_ratings'].max()\n",
    "avg_count = train_user_info_df['count_ratings'].mean()\n",
    "\n",
    "train_user_info_df['weights'] = train_user_info_df['count_ratings'].apply(lambda x: (x-avg_count)/(max_count-min_count))"
   ]
  },
  {
   "cell_type": "code",
   "execution_count": 39,
   "metadata": {},
   "outputs": [
    {
     "output_type": "execute_result",
     "data": {
      "text/plain": [
       "        avg_ratings  std_ratings  count_ratings   weights\n",
       "userId                                                   \n",
       "1          4.271605     0.863509            162  0.024465\n",
       "2          3.954545     0.843873             22 -0.049531\n",
       "3          2.340909     2.151336             22 -0.049531\n",
       "4          3.567742     1.324197            155  0.020765\n",
       "5          3.678571     0.983327             28 -0.046360\n",
       "...             ...          ...            ...       ...\n",
       "606        3.662127     0.719157            771  0.346346\n",
       "607        3.803150     0.984316            127  0.005966\n",
       "608        3.158895     1.085355            579  0.244866\n",
       "609        3.285714     0.460044             28 -0.046360\n",
       "610        3.685022     0.866131            908  0.418756\n",
       "\n",
       "[610 rows x 4 columns]"
      ],
      "text/html": "<div>\n<style scoped>\n    .dataframe tbody tr th:only-of-type {\n        vertical-align: middle;\n    }\n\n    .dataframe tbody tr th {\n        vertical-align: top;\n    }\n\n    .dataframe thead th {\n        text-align: right;\n    }\n</style>\n<table border=\"1\" class=\"dataframe\">\n  <thead>\n    <tr style=\"text-align: right;\">\n      <th></th>\n      <th>avg_ratings</th>\n      <th>std_ratings</th>\n      <th>count_ratings</th>\n      <th>weights</th>\n    </tr>\n    <tr>\n      <th>userId</th>\n      <th></th>\n      <th></th>\n      <th></th>\n      <th></th>\n    </tr>\n  </thead>\n  <tbody>\n    <tr>\n      <th>1</th>\n      <td>4.271605</td>\n      <td>0.863509</td>\n      <td>162</td>\n      <td>0.024465</td>\n    </tr>\n    <tr>\n      <th>2</th>\n      <td>3.954545</td>\n      <td>0.843873</td>\n      <td>22</td>\n      <td>-0.049531</td>\n    </tr>\n    <tr>\n      <th>3</th>\n      <td>2.340909</td>\n      <td>2.151336</td>\n      <td>22</td>\n      <td>-0.049531</td>\n    </tr>\n    <tr>\n      <th>4</th>\n      <td>3.567742</td>\n      <td>1.324197</td>\n      <td>155</td>\n      <td>0.020765</td>\n    </tr>\n    <tr>\n      <th>5</th>\n      <td>3.678571</td>\n      <td>0.983327</td>\n      <td>28</td>\n      <td>-0.046360</td>\n    </tr>\n    <tr>\n      <th>...</th>\n      <td>...</td>\n      <td>...</td>\n      <td>...</td>\n      <td>...</td>\n    </tr>\n    <tr>\n      <th>606</th>\n      <td>3.662127</td>\n      <td>0.719157</td>\n      <td>771</td>\n      <td>0.346346</td>\n    </tr>\n    <tr>\n      <th>607</th>\n      <td>3.803150</td>\n      <td>0.984316</td>\n      <td>127</td>\n      <td>0.005966</td>\n    </tr>\n    <tr>\n      <th>608</th>\n      <td>3.158895</td>\n      <td>1.085355</td>\n      <td>579</td>\n      <td>0.244866</td>\n    </tr>\n    <tr>\n      <th>609</th>\n      <td>3.285714</td>\n      <td>0.460044</td>\n      <td>28</td>\n      <td>-0.046360</td>\n    </tr>\n    <tr>\n      <th>610</th>\n      <td>3.685022</td>\n      <td>0.866131</td>\n      <td>908</td>\n      <td>0.418756</td>\n    </tr>\n  </tbody>\n</table>\n<p>610 rows × 4 columns</p>\n</div>"
     },
     "metadata": {},
     "execution_count": 39
    }
   ],
   "source": [
    "train_user_info_df"
   ]
  },
  {
   "cell_type": "code",
   "execution_count": 40,
   "metadata": {},
   "outputs": [
    {
     "output_type": "execute_result",
     "data": {
      "text/plain": [
       "        avg_ratings  std_ratings  count_ratings   weights\n",
       "userId                                                   \n",
       "1          0.808704     0.401383       0.080338  0.080338\n",
       "2          0.725436     0.392255       0.006342  0.006342\n",
       "3          0.301653     1.000000       0.006342  0.006342\n",
       "4          0.623851     0.615523       0.076638  0.076638\n",
       "5          0.652958     0.457077       0.009514  0.009514\n",
       "...             ...          ...            ...       ...\n",
       "606        0.648639     0.334284       0.402220  0.402220\n",
       "607        0.685676     0.457537       0.061839  0.061839\n",
       "608        0.516477     0.504503       0.300740  0.300740\n",
       "609        0.549784     0.213841       0.009514  0.009514\n",
       "610        0.654652     0.402602       0.474630  0.474630\n",
       "\n",
       "[610 rows x 4 columns]"
      ],
      "text/html": "<div>\n<style scoped>\n    .dataframe tbody tr th:only-of-type {\n        vertical-align: middle;\n    }\n\n    .dataframe tbody tr th {\n        vertical-align: top;\n    }\n\n    .dataframe thead th {\n        text-align: right;\n    }\n</style>\n<table border=\"1\" class=\"dataframe\">\n  <thead>\n    <tr style=\"text-align: right;\">\n      <th></th>\n      <th>avg_ratings</th>\n      <th>std_ratings</th>\n      <th>count_ratings</th>\n      <th>weights</th>\n    </tr>\n    <tr>\n      <th>userId</th>\n      <th></th>\n      <th></th>\n      <th></th>\n      <th></th>\n    </tr>\n  </thead>\n  <tbody>\n    <tr>\n      <th>1</th>\n      <td>0.808704</td>\n      <td>0.401383</td>\n      <td>0.080338</td>\n      <td>0.080338</td>\n    </tr>\n    <tr>\n      <th>2</th>\n      <td>0.725436</td>\n      <td>0.392255</td>\n      <td>0.006342</td>\n      <td>0.006342</td>\n    </tr>\n    <tr>\n      <th>3</th>\n      <td>0.301653</td>\n      <td>1.000000</td>\n      <td>0.006342</td>\n      <td>0.006342</td>\n    </tr>\n    <tr>\n      <th>4</th>\n      <td>0.623851</td>\n      <td>0.615523</td>\n      <td>0.076638</td>\n      <td>0.076638</td>\n    </tr>\n    <tr>\n      <th>5</th>\n      <td>0.652958</td>\n      <td>0.457077</td>\n      <td>0.009514</td>\n      <td>0.009514</td>\n    </tr>\n    <tr>\n      <th>...</th>\n      <td>...</td>\n      <td>...</td>\n      <td>...</td>\n      <td>...</td>\n    </tr>\n    <tr>\n      <th>606</th>\n      <td>0.648639</td>\n      <td>0.334284</td>\n      <td>0.402220</td>\n      <td>0.402220</td>\n    </tr>\n    <tr>\n      <th>607</th>\n      <td>0.685676</td>\n      <td>0.457537</td>\n      <td>0.061839</td>\n      <td>0.061839</td>\n    </tr>\n    <tr>\n      <th>608</th>\n      <td>0.516477</td>\n      <td>0.504503</td>\n      <td>0.300740</td>\n      <td>0.300740</td>\n    </tr>\n    <tr>\n      <th>609</th>\n      <td>0.549784</td>\n      <td>0.213841</td>\n      <td>0.009514</td>\n      <td>0.009514</td>\n    </tr>\n    <tr>\n      <th>610</th>\n      <td>0.654652</td>\n      <td>0.402602</td>\n      <td>0.474630</td>\n      <td>0.474630</td>\n    </tr>\n  </tbody>\n</table>\n<p>610 rows × 4 columns</p>\n</div>"
     },
     "metadata": {},
     "execution_count": 40
    }
   ],
   "source": [
    "from sklearn import preprocessing\n",
    "\n",
    "min_max_scaler = preprocessing.MinMaxScaler()\n",
    "np_scaled = min_max_scaler.fit_transform(train_user_info_df)\n",
    "df_normalized = pd.DataFrame(np_scaled, columns = train_user_info_df.columns, index=train_user_info_df.index)\n",
    "df_normalized"
   ]
  },
  {
   "cell_type": "code",
   "execution_count": 41,
   "metadata": {},
   "outputs": [
    {
     "output_type": "execute_result",
     "data": {
      "text/plain": [
       "        avg_ratings  std_ratings  count_ratings   weights  \\\n",
       "userId                                                      \n",
       "1          0.808704     0.401383       0.080338  0.080338   \n",
       "2          0.725436     0.392255       0.006342  0.006342   \n",
       "3          0.301653     1.000000       0.006342  0.006342   \n",
       "4          0.623851     0.615523       0.076638  0.076638   \n",
       "5          0.652958     0.457077       0.009514  0.009514   \n",
       "...             ...          ...            ...       ...   \n",
       "606        0.648639     0.334284       0.402220  0.402220   \n",
       "607        0.685676     0.457537       0.061839  0.061839   \n",
       "608        0.516477     0.504503       0.300740  0.300740   \n",
       "609        0.549784     0.213841       0.009514  0.009514   \n",
       "610        0.654652     0.402602       0.474630  0.474630   \n",
       "\n",
       "        normalized_avg_ratings  \n",
       "userId                          \n",
       "1                     4.043522  \n",
       "2                     3.627181  \n",
       "3                     1.508264  \n",
       "4                     3.119257  \n",
       "5                     3.264791  \n",
       "...                        ...  \n",
       "606                   3.243197  \n",
       "607                   3.428378  \n",
       "608                   2.582387  \n",
       "609                   2.748918  \n",
       "610                   3.273261  \n",
       "\n",
       "[610 rows x 5 columns]"
      ],
      "text/html": "<div>\n<style scoped>\n    .dataframe tbody tr th:only-of-type {\n        vertical-align: middle;\n    }\n\n    .dataframe tbody tr th {\n        vertical-align: top;\n    }\n\n    .dataframe thead th {\n        text-align: right;\n    }\n</style>\n<table border=\"1\" class=\"dataframe\">\n  <thead>\n    <tr style=\"text-align: right;\">\n      <th></th>\n      <th>avg_ratings</th>\n      <th>std_ratings</th>\n      <th>count_ratings</th>\n      <th>weights</th>\n      <th>normalized_avg_ratings</th>\n    </tr>\n    <tr>\n      <th>userId</th>\n      <th></th>\n      <th></th>\n      <th></th>\n      <th></th>\n      <th></th>\n    </tr>\n  </thead>\n  <tbody>\n    <tr>\n      <th>1</th>\n      <td>0.808704</td>\n      <td>0.401383</td>\n      <td>0.080338</td>\n      <td>0.080338</td>\n      <td>4.043522</td>\n    </tr>\n    <tr>\n      <th>2</th>\n      <td>0.725436</td>\n      <td>0.392255</td>\n      <td>0.006342</td>\n      <td>0.006342</td>\n      <td>3.627181</td>\n    </tr>\n    <tr>\n      <th>3</th>\n      <td>0.301653</td>\n      <td>1.000000</td>\n      <td>0.006342</td>\n      <td>0.006342</td>\n      <td>1.508264</td>\n    </tr>\n    <tr>\n      <th>4</th>\n      <td>0.623851</td>\n      <td>0.615523</td>\n      <td>0.076638</td>\n      <td>0.076638</td>\n      <td>3.119257</td>\n    </tr>\n    <tr>\n      <th>5</th>\n      <td>0.652958</td>\n      <td>0.457077</td>\n      <td>0.009514</td>\n      <td>0.009514</td>\n      <td>3.264791</td>\n    </tr>\n    <tr>\n      <th>...</th>\n      <td>...</td>\n      <td>...</td>\n      <td>...</td>\n      <td>...</td>\n      <td>...</td>\n    </tr>\n    <tr>\n      <th>606</th>\n      <td>0.648639</td>\n      <td>0.334284</td>\n      <td>0.402220</td>\n      <td>0.402220</td>\n      <td>3.243197</td>\n    </tr>\n    <tr>\n      <th>607</th>\n      <td>0.685676</td>\n      <td>0.457537</td>\n      <td>0.061839</td>\n      <td>0.061839</td>\n      <td>3.428378</td>\n    </tr>\n    <tr>\n      <th>608</th>\n      <td>0.516477</td>\n      <td>0.504503</td>\n      <td>0.300740</td>\n      <td>0.300740</td>\n      <td>2.582387</td>\n    </tr>\n    <tr>\n      <th>609</th>\n      <td>0.549784</td>\n      <td>0.213841</td>\n      <td>0.009514</td>\n      <td>0.009514</td>\n      <td>2.748918</td>\n    </tr>\n    <tr>\n      <th>610</th>\n      <td>0.654652</td>\n      <td>0.402602</td>\n      <td>0.474630</td>\n      <td>0.474630</td>\n      <td>3.273261</td>\n    </tr>\n  </tbody>\n</table>\n<p>610 rows × 5 columns</p>\n</div>"
     },
     "metadata": {},
     "execution_count": 41
    }
   ],
   "source": [
    "df_normalized['normalized_avg_ratings'] = df_normalized['avg_ratings'] * 5\n",
    "df_normalized"
   ]
  },
  {
   "cell_type": "code",
   "execution_count": 42,
   "metadata": {},
   "outputs": [
    {
     "output_type": "stream",
     "name": "stderr",
     "text": [
      "100%|██████████| 30251/30251 [00:02<00:00, 13853.95it/s]\n"
     ]
    },
    {
     "output_type": "execute_result",
     "data": {
      "text/plain": [
       "       userId  movieId  rating   timestamp  pred_ratings_random  \\\n",
       "99731     610     3527     5.0  1479545223                  2.5   \n",
       "97583     606     1250     3.5  1171376891                  3.0   \n",
       "38197     262      213     5.0   840310907                  4.0   \n",
       "11474      68    69406     3.0  1261622505                  1.5   \n",
       "34105     232     4728     3.0  1218166950                  1.0   \n",
       "...       ...      ...     ...         ...                  ...   \n",
       "24735     172     1982     3.0  1238716057                  0.5   \n",
       "5825       41    69757     3.5  1458938869                  2.5   \n",
       "11128      68     6893     3.5  1158534072                  3.5   \n",
       "2231       18   117176     4.0  1473004722                  2.0   \n",
       "75290     475    45722     4.5  1498030315                  2.0   \n",
       "\n",
       "       pred_rating_movie  pred_rating_user  pred_rating_genre  \\\n",
       "99731           3.592105          3.685022           3.141247   \n",
       "97583           4.140625          3.662127           3.410769   \n",
       "38197           3.750000          2.945946           3.431731   \n",
       "11474           3.454545          3.237079           3.260991   \n",
       "34105           2.769231          3.265090           3.179721   \n",
       "...                  ...               ...                ...   \n",
       "24735           3.805556          3.900000           2.909010   \n",
       "5825            3.727273          3.175497           3.317904   \n",
       "11128           4.166667          3.237079           3.204100   \n",
       "2231            3.791667          3.736915           3.386996   \n",
       "75290           3.393617          4.398058           3.201319   \n",
       "\n",
       "       pred_rating_normalized  \n",
       "99731                3.273261  \n",
       "97583                3.243197  \n",
       "38197                2.302757  \n",
       "11474                2.685053  \n",
       "34105                2.721835  \n",
       "...                       ...  \n",
       "24735                3.555556  \n",
       "5825                 2.604188  \n",
       "11128                2.685053  \n",
       "2231                 3.341403  \n",
       "75290                4.209571  \n",
       "\n",
       "[30251 rows x 9 columns]"
      ],
      "text/html": "<div>\n<style scoped>\n    .dataframe tbody tr th:only-of-type {\n        vertical-align: middle;\n    }\n\n    .dataframe tbody tr th {\n        vertical-align: top;\n    }\n\n    .dataframe thead th {\n        text-align: right;\n    }\n</style>\n<table border=\"1\" class=\"dataframe\">\n  <thead>\n    <tr style=\"text-align: right;\">\n      <th></th>\n      <th>userId</th>\n      <th>movieId</th>\n      <th>rating</th>\n      <th>timestamp</th>\n      <th>pred_ratings_random</th>\n      <th>pred_rating_movie</th>\n      <th>pred_rating_user</th>\n      <th>pred_rating_genre</th>\n      <th>pred_rating_normalized</th>\n    </tr>\n  </thead>\n  <tbody>\n    <tr>\n      <th>99731</th>\n      <td>610</td>\n      <td>3527</td>\n      <td>5.0</td>\n      <td>1479545223</td>\n      <td>2.5</td>\n      <td>3.592105</td>\n      <td>3.685022</td>\n      <td>3.141247</td>\n      <td>3.273261</td>\n    </tr>\n    <tr>\n      <th>97583</th>\n      <td>606</td>\n      <td>1250</td>\n      <td>3.5</td>\n      <td>1171376891</td>\n      <td>3.0</td>\n      <td>4.140625</td>\n      <td>3.662127</td>\n      <td>3.410769</td>\n      <td>3.243197</td>\n    </tr>\n    <tr>\n      <th>38197</th>\n      <td>262</td>\n      <td>213</td>\n      <td>5.0</td>\n      <td>840310907</td>\n      <td>4.0</td>\n      <td>3.750000</td>\n      <td>2.945946</td>\n      <td>3.431731</td>\n      <td>2.302757</td>\n    </tr>\n    <tr>\n      <th>11474</th>\n      <td>68</td>\n      <td>69406</td>\n      <td>3.0</td>\n      <td>1261622505</td>\n      <td>1.5</td>\n      <td>3.454545</td>\n      <td>3.237079</td>\n      <td>3.260991</td>\n      <td>2.685053</td>\n    </tr>\n    <tr>\n      <th>34105</th>\n      <td>232</td>\n      <td>4728</td>\n      <td>3.0</td>\n      <td>1218166950</td>\n      <td>1.0</td>\n      <td>2.769231</td>\n      <td>3.265090</td>\n      <td>3.179721</td>\n      <td>2.721835</td>\n    </tr>\n    <tr>\n      <th>...</th>\n      <td>...</td>\n      <td>...</td>\n      <td>...</td>\n      <td>...</td>\n      <td>...</td>\n      <td>...</td>\n      <td>...</td>\n      <td>...</td>\n      <td>...</td>\n    </tr>\n    <tr>\n      <th>24735</th>\n      <td>172</td>\n      <td>1982</td>\n      <td>3.0</td>\n      <td>1238716057</td>\n      <td>0.5</td>\n      <td>3.805556</td>\n      <td>3.900000</td>\n      <td>2.909010</td>\n      <td>3.555556</td>\n    </tr>\n    <tr>\n      <th>5825</th>\n      <td>41</td>\n      <td>69757</td>\n      <td>3.5</td>\n      <td>1458938869</td>\n      <td>2.5</td>\n      <td>3.727273</td>\n      <td>3.175497</td>\n      <td>3.317904</td>\n      <td>2.604188</td>\n    </tr>\n    <tr>\n      <th>11128</th>\n      <td>68</td>\n      <td>6893</td>\n      <td>3.5</td>\n      <td>1158534072</td>\n      <td>3.5</td>\n      <td>4.166667</td>\n      <td>3.237079</td>\n      <td>3.204100</td>\n      <td>2.685053</td>\n    </tr>\n    <tr>\n      <th>2231</th>\n      <td>18</td>\n      <td>117176</td>\n      <td>4.0</td>\n      <td>1473004722</td>\n      <td>2.0</td>\n      <td>3.791667</td>\n      <td>3.736915</td>\n      <td>3.386996</td>\n      <td>3.341403</td>\n    </tr>\n    <tr>\n      <th>75290</th>\n      <td>475</td>\n      <td>45722</td>\n      <td>4.5</td>\n      <td>1498030315</td>\n      <td>2.0</td>\n      <td>3.393617</td>\n      <td>4.398058</td>\n      <td>3.201319</td>\n      <td>4.209571</td>\n    </tr>\n  </tbody>\n</table>\n<p>30251 rows × 9 columns</p>\n</div>"
     },
     "metadata": {},
     "execution_count": 42
    }
   ],
   "source": [
    "test_df['pred_rating_normalized'] = test_df['userId'].progress_apply(lambda x: df_normalized.loc[x]['normalized_avg_ratings'])\n",
    "test_df"
   ]
  },
  {
   "cell_type": "code",
   "execution_count": 43,
   "metadata": {},
   "outputs": [
    {
     "output_type": "stream",
     "name": "stdout",
     "text": [
      "1.1219932449166226 1.0592418255132408\n"
     ]
    }
   ],
   "source": [
    "mse = mean_squared_error(y_true=test_df['rating'].values, y_pred=test_df['pred_rating_normalized'].values)\n",
    "rmse = np.sqrt(mse)\n",
    "\n",
    "print(mse, rmse)"
   ]
  }
 ],
 "metadata": {
  "kernelspec": {
   "display_name": "Python 3",
   "language": "python",
   "name": "python3"
  },
  "language_info": {
   "codemirror_mode": {
    "name": "ipython",
    "version": 3
   },
   "file_extension": ".py",
   "mimetype": "text/x-python",
   "name": "python",
   "nbconvert_exporter": "python",
   "pygments_lexer": "ipython3",
   "version": "3.8.5-final"
  }
 },
 "nbformat": 4,
 "nbformat_minor": 4
}